{
  "nbformat": 4,
  "nbformat_minor": 0,
  "metadata": {
    "colab": {
      "name": "COVID_Hackathon_Model_Submission_Notebook.ipynb",
      "provenance": [],
      "collapsed_sections": []
    },
    "kernelspec": {
      "name": "python3",
      "display_name": "Python 3"
    },
    "accelerator": "GPU"
  },
  "cells": [
    {
      "cell_type": "markdown",
      "metadata": {
        "id": "o52SNT3EIrJZ"
      },
      "source": [
        "## Covid Positive X-Ray"
      ]
    },
    {
      "cell_type": "markdown",
      "metadata": {
        "id": "Lxg1icI8L4Ow"
      },
      "source": [
        "------------------"
      ]
    },
    {
      "cell_type": "markdown",
      "metadata": {
        "id": "BPnxGCn7It8L"
      },
      "source": [
        "#### Predicting Covid-19 Positive X-Ray images"
      ]
    },
    {
      "cell_type": "markdown",
      "metadata": {
        "id": "AdU8aYiQIw6R"
      },
      "source": [
        "Data for this analysis comes from Chowdhury et al.'s 2020 study, “Can AI help in screening Viral and COVID-19 pneumonia?”\n",
        "\n",
        "This dataset includes chest X-ray images of the coronavirus disease (Covid-19), pneumonia, and normal health. \n",
        "\n",
        "I will be constructing machine learning models to predict when a chest X-ray image contains Covid-19. Detecting Covid-19 using machine learning techniques is useful because as Chowdhury et al. note, current diagnosis tools for Covid-19 can be expensive and require medical professional. Machine learning models offer a robust automation alternative for detecting Covid-19, and can be useful for quickly and efficiently predicting its presence based off of X-ray images."
      ]
    },
    {
      "cell_type": "markdown",
      "metadata": {
        "id": "CGgUVamEL6cE"
      },
      "source": [
        "--------------------"
      ]
    },
    {
      "cell_type": "code",
      "metadata": {
        "id": "DuYdaUsfv79-"
      },
      "source": [
        "# Download and unzip data \r\n",
        "!gdown --id 1xt7g5LkZuX09e1a8rK9sRXIrGFN6rjzl \r\n",
        "!unzip COVID-19_Radiography_Database.zip"
      ],
      "execution_count": null,
      "outputs": []
    },
    {
      "cell_type": "code",
      "metadata": {
        "id": "1qIbq0zxwM4e"
      },
      "source": [
        "# Colab Setup: \r\n",
        "# note that tabular preprocessors require scikit-learn>=0.24.0\r\n",
        "# Newest Tensorflow 2 has some bugs for onnx conversion\r\n",
        "!pip install scikit-learn --upgrade \r\n",
        "import os\r\n",
        "os.environ['TF_KERAS'] = '1'\r\n",
        "% tensorflow_version 1"
      ],
      "execution_count": null,
      "outputs": []
    },
    {
      "cell_type": "code",
      "metadata": {
        "id": "Mu2zq86HwZFU"
      },
      "source": [
        "import sys\r\n",
        "import time\r\n",
        "import cv2\r\n",
        "import numpy as np\r\n",
        "from matplotlib import pyplot as plt\r\n",
        "import tensorflow as tf\r\n",
        "import os\r\n",
        "import zipfile\r\n",
        "\r\n",
        "from skimage.transform import resize\r\n",
        "from sklearn.model_selection import train_test_split\r\n",
        "\r\n",
        "from tensorflow.python.keras.utils import np_utils\r\n",
        "from tensorflow.keras.models import Sequential, Model\r\n",
        "from tensorflow.keras.layers import Dense, Dropout, Flatten, Activation, BatchNormalization, GlobalAveragePooling2D\r\n",
        "from tensorflow.python.keras.layers.convolutional import Conv2D, MaxPooling2D \r\n",
        "from tensorflow.keras.preprocessing.image import ImageDataGenerator\r\n",
        "from tensorflow.keras.optimizers import Adam,SGD,Adagrad,Adadelta,RMSprop\r\n",
        "from tensorflow.keras.applications import VGG19, ResNet50, InceptionV3, InceptionV3, InceptionResNetV2\r\n",
        "from tensorflow.keras.applications.vgg16 import VGG16\r\n",
        "from tensorflow.keras.preprocessing import image\r\n",
        "from tensorflow.keras import backend as K"
      ],
      "execution_count": 3,
      "outputs": []
    },
    {
      "cell_type": "code",
      "metadata": {
        "colab": {
          "base_uri": "https://localhost:8080/"
        },
        "id": "dWzvKPdewbLz",
        "outputId": "b8999947-f8fb-4347-aff1-18032120d559"
      },
      "source": [
        "# Extracting all filenames iteratively\r\n",
        "base_path = 'COVID-19 Radiography Database'\r\n",
        "categories = ['COVID', 'NORMAL', 'Viral Pneumonia']\r\n",
        "\r\n",
        "# load file names to fnames list object\r\n",
        "fnames = []\r\n",
        "for category in categories:\r\n",
        "    image_folder = os.path.join(base_path, category)\r\n",
        "    file_names = os.listdir(image_folder)\r\n",
        "    full_path = [os.path.join(image_folder, file_name) for file_name in file_names]\r\n",
        "    fnames.append(full_path)\r\n",
        "\r\n",
        "print('number of images for each category:', [len(f) for f in fnames])\r\n",
        "# print(fnames[0:2]) #examples of file names"
      ],
      "execution_count": 72,
      "outputs": [
        {
          "output_type": "stream",
          "text": [
            "number of images for each category: [1200, 1341, 1345]\n"
          ],
          "name": "stdout"
        }
      ]
    },
    {
      "cell_type": "code",
      "metadata": {
        "colab": {
          "base_uri": "https://localhost:8080/"
        },
        "id": "DR9fq2m_wx3V",
        "outputId": "f693a59b-ee2a-47ec-f25c-7563882d8bfa"
      },
      "source": [
        "# Import image, load to array of shape height, width, channels, then min/max transform.\r\n",
        "# Write preprocessor that will match up with model's expected input shape.\r\n",
        "# Uses opencv for image preprocessing\r\n",
        "\r\n",
        "def preprocessor(data, shape=(192, 192)):\r\n",
        "        \"\"\"\r\n",
        "        This function reads in images, resizes them to a fixed shape, and\r\n",
        "        min/max transforms them, before converting feature values to float32\r\n",
        "        for ONNX.\r\n",
        "        \r\n",
        "        params:\r\n",
        "            data\r\n",
        "                list of unprocessed images\r\n",
        "                      \r\n",
        "        returns:\r\n",
        "            X\r\n",
        "                numpy array of preprocessed image data\r\n",
        "                  \r\n",
        "        \"\"\"\r\n",
        "           \r\n",
        "        import cv2\r\n",
        "        import numpy as np\r\n",
        "\r\n",
        "        \"Resize a color image and min/max transform the image\"\r\n",
        "        img = cv2.imread(data) # Read in image from filepath.\r\n",
        "        img = cv2.cvtColor(img, cv2.COLOR_BGR2RGB) # cv2 reads in images in order of blue green and red, we reverse the order for ML.\r\n",
        "        #grayscale image?  Use im_gray = cv2.imread('gray_image.png', cv2.IMREAD_GRAYSCALE)\r\n",
        "        img = cv2.resize(img, shape) # Change height and width of image.\r\n",
        "        img = img / 255.0 # Min-max transform.  \r\n",
        "\r\n",
        "        # Resize the images.\r\n",
        "        X = np.array(img)\r\n",
        "        #X = np.expand_dims(X, axis=0) # Expand dims to add \"1\" to object shape [1, h, w, channels] if needed.\r\n",
        "        X = np.array(X, dtype=np.float32) # Final shape for onnx runtime.\r\n",
        "        return X\r\n",
        "\r\n",
        "preprocessor('COVID-19 Radiography Database/COVID/COVID (1).png').shape"
      ],
      "execution_count": 5,
      "outputs": [
        {
          "output_type": "execute_result",
          "data": {
            "text/plain": [
              "(192, 192, 3)"
            ]
          },
          "metadata": {
            "tags": []
          },
          "execution_count": 5
        }
      ]
    },
    {
      "cell_type": "code",
      "metadata": {
        "id": "svHoZ-SXw9qX"
      },
      "source": [
        "#Import image files iteratively and preprocess them into array of correctly structured data\r\n",
        "\r\n",
        "# Create list of file paths\r\n",
        "image_filepaths=fnames[0]+fnames[1]+fnames[2]\r\n",
        "\r\n",
        "preprocessed_image_data=list(map(preprocessor,image_filepaths ))\r\n",
        "\r\n",
        "# Object needs to be an array rather than a list for Keras (map returns to list object)\r\n",
        "X= np.array(preprocessed_image_data) # Assigning to X to highlight that this represents feature input data for our model"
      ],
      "execution_count": 6,
      "outputs": []
    },
    {
      "cell_type": "code",
      "metadata": {
        "id": "4fjyLDwbxElq",
        "colab": {
          "base_uri": "https://localhost:8080/"
        },
        "outputId": "98aced95-7f83-4a09-94b5-6e58566f7229"
      },
      "source": [
        "len(image_filepaths)"
      ],
      "execution_count": 7,
      "outputs": [
        {
          "output_type": "execute_result",
          "data": {
            "text/plain": [
              "3886"
            ]
          },
          "metadata": {
            "tags": []
          },
          "execution_count": 7
        }
      ]
    },
    {
      "cell_type": "code",
      "metadata": {
        "id": "dZ9Xo1ADxK1y",
        "colab": {
          "base_uri": "https://localhost:8080/"
        },
        "outputId": "bf715694-e1dd-4ffd-be26-d74bb83080d3"
      },
      "source": [
        "print(len(X) ) #same number of elements as filenames\r\n",
        "print(X.shape ) #dimensions now 192,192,3 for all images\r\n",
        "print(X.min() ) #min value of every image is zero\r\n",
        "print(X.max() ) #max value of every image is one\r\n"
      ],
      "execution_count": 8,
      "outputs": [
        {
          "output_type": "stream",
          "text": [
            "3886\n",
            "(3886, 192, 192, 3)\n",
            "0.0\n",
            "1.0\n"
          ],
          "name": "stdout"
        }
      ]
    },
    {
      "cell_type": "code",
      "metadata": {
        "id": "pU0Da0m8x9_n",
        "colab": {
          "base_uri": "https://localhost:8080/",
          "height": 453
        },
        "outputId": "cde000c5-d2d7-4f4b-bb86-a532babf3923"
      },
      "source": [
        "# Create y data made up of correctly ordered labels from file folders\r\n",
        "from itertools import repeat\r\n",
        "\r\n",
        "print('number of images for each category:', [len(f) for f in fnames])\r\n",
        "covid=list(repeat(\"COVID\", 1200))\r\n",
        "normal=list(repeat(\"NORMAL\", 1341))\r\n",
        "pneumonia=list(repeat(\"PNEUMONIA\", 1345))\r\n",
        "\r\n",
        "#combine into single list of y labels\r\n",
        "y_labels = covid+normal+pneumonia\r\n",
        "\r\n",
        "#check length, same as X above\r\n",
        "print(len(y_labels) )\r\n",
        "\r\n",
        "import pandas as pd\r\n",
        "y=pd.get_dummies(y_labels)\r\n",
        "\r\n",
        "display(y)"
      ],
      "execution_count": 9,
      "outputs": [
        {
          "output_type": "stream",
          "text": [
            "number of images for each category: [1200, 1341, 1345]\n",
            "3886\n"
          ],
          "name": "stdout"
        },
        {
          "output_type": "display_data",
          "data": {
            "text/html": [
              "<div>\n",
              "<style scoped>\n",
              "    .dataframe tbody tr th:only-of-type {\n",
              "        vertical-align: middle;\n",
              "    }\n",
              "\n",
              "    .dataframe tbody tr th {\n",
              "        vertical-align: top;\n",
              "    }\n",
              "\n",
              "    .dataframe thead th {\n",
              "        text-align: right;\n",
              "    }\n",
              "</style>\n",
              "<table border=\"1\" class=\"dataframe\">\n",
              "  <thead>\n",
              "    <tr style=\"text-align: right;\">\n",
              "      <th></th>\n",
              "      <th>COVID</th>\n",
              "      <th>NORMAL</th>\n",
              "      <th>PNEUMONIA</th>\n",
              "    </tr>\n",
              "  </thead>\n",
              "  <tbody>\n",
              "    <tr>\n",
              "      <th>0</th>\n",
              "      <td>1</td>\n",
              "      <td>0</td>\n",
              "      <td>0</td>\n",
              "    </tr>\n",
              "    <tr>\n",
              "      <th>1</th>\n",
              "      <td>1</td>\n",
              "      <td>0</td>\n",
              "      <td>0</td>\n",
              "    </tr>\n",
              "    <tr>\n",
              "      <th>2</th>\n",
              "      <td>1</td>\n",
              "      <td>0</td>\n",
              "      <td>0</td>\n",
              "    </tr>\n",
              "    <tr>\n",
              "      <th>3</th>\n",
              "      <td>1</td>\n",
              "      <td>0</td>\n",
              "      <td>0</td>\n",
              "    </tr>\n",
              "    <tr>\n",
              "      <th>4</th>\n",
              "      <td>1</td>\n",
              "      <td>0</td>\n",
              "      <td>0</td>\n",
              "    </tr>\n",
              "    <tr>\n",
              "      <th>...</th>\n",
              "      <td>...</td>\n",
              "      <td>...</td>\n",
              "      <td>...</td>\n",
              "    </tr>\n",
              "    <tr>\n",
              "      <th>3881</th>\n",
              "      <td>0</td>\n",
              "      <td>0</td>\n",
              "      <td>1</td>\n",
              "    </tr>\n",
              "    <tr>\n",
              "      <th>3882</th>\n",
              "      <td>0</td>\n",
              "      <td>0</td>\n",
              "      <td>1</td>\n",
              "    </tr>\n",
              "    <tr>\n",
              "      <th>3883</th>\n",
              "      <td>0</td>\n",
              "      <td>0</td>\n",
              "      <td>1</td>\n",
              "    </tr>\n",
              "    <tr>\n",
              "      <th>3884</th>\n",
              "      <td>0</td>\n",
              "      <td>0</td>\n",
              "      <td>1</td>\n",
              "    </tr>\n",
              "    <tr>\n",
              "      <th>3885</th>\n",
              "      <td>0</td>\n",
              "      <td>0</td>\n",
              "      <td>1</td>\n",
              "    </tr>\n",
              "  </tbody>\n",
              "</table>\n",
              "<p>3886 rows × 3 columns</p>\n",
              "</div>"
            ],
            "text/plain": [
              "      COVID  NORMAL  PNEUMONIA\n",
              "0         1       0          0\n",
              "1         1       0          0\n",
              "2         1       0          0\n",
              "3         1       0          0\n",
              "4         1       0          0\n",
              "...     ...     ...        ...\n",
              "3881      0       0          1\n",
              "3882      0       0          1\n",
              "3883      0       0          1\n",
              "3884      0       0          1\n",
              "3885      0       0          1\n",
              "\n",
              "[3886 rows x 3 columns]"
            ]
          },
          "metadata": {
            "tags": []
          }
        }
      ]
    },
    {
      "cell_type": "code",
      "metadata": {
        "id": "nUTR0fRkybas",
        "colab": {
          "base_uri": "https://localhost:8080/",
          "height": 281
        },
        "outputId": "91c65786-8865-4e30-9801-482c968ae549"
      },
      "source": [
        "import matplotlib.pyplot as plt\r\n",
        "from mpl_toolkits.axes_grid1 import ImageGrid\r\n",
        "import numpy as np\r\n",
        "import random\r\n",
        "\r\n",
        "im1 =preprocessor('COVID-19 Radiography Database/COVID/COVID (1).png')\r\n",
        "im2 =preprocessor('COVID-19 Radiography Database/NORMAL/NORMAL (1).png')\r\n",
        "im3 =preprocessor('COVID-19 Radiography Database/Viral Pneumonia/Viral Pneumonia (1).png')\r\n",
        "\r\n",
        "fig = plt.figure(figsize=(4., 4.))\r\n",
        "grid = ImageGrid(fig, 111,  \r\n",
        "                 nrows_ncols=(2, 2),  \r\n",
        "                 axes_pad=0.25,  \r\n",
        "                 )\r\n",
        "\r\n",
        "for ax, im, title in zip(grid, [im1, im2, im3], [\"Covid-19\", \"Normal\", \"Pneumonia\"]):\r\n",
        "    ax.set_title(title, fontdict=None, loc='center', color = \"k\")\r\n",
        "    ax.imshow(im)\r\n",
        "plt.show()"
      ],
      "execution_count": 52,
      "outputs": [
        {
          "output_type": "display_data",
          "data": {
            "image/png": "[encoded data removed]",
            "text/plain": [
              "<Figure size 288x288 with 8 Axes>"
            ]
          },
          "metadata": {
            "tags": [],
            "needs_background": "light"
          }
        }
      ]
    },
    {
      "cell_type": "code",
      "metadata": {
        "id": "TImfyLlxy1Vx",
        "colab": {
          "base_uri": "https://localhost:8080/"
        },
        "outputId": "5a286689-9a06-4955-a326-156e5d284219"
      },
      "source": [
        "# ======Train test split resized images====== \r\n",
        "from sklearn.model_selection import train_test_split\r\n",
        "\r\n",
        "X_train, X_test, y_train, y_test = train_test_split(X, y, stratify = y, test_size = 0.20, random_state = 1987)\r\n",
        "\r\n",
        "y_test.sum()"
      ],
      "execution_count": 11,
      "outputs": [
        {
          "output_type": "execute_result",
          "data": {
            "text/plain": [
              "COVID        240\n",
              "NORMAL       269\n",
              "PNEUMONIA    269\n",
              "dtype: int64"
            ]
          },
          "metadata": {
            "tags": []
          },
          "execution_count": 11
        }
      ]
    },
    {
      "cell_type": "code",
      "metadata": {
        "id": "n8LIZZco1fVt"
      },
      "source": [
        "# performance metrics\r\n",
        "import numpy as np\r\n",
        "from sklearn.metrics import accuracy_score\r\n",
        "from sklearn.metrics import f1_score\r\n",
        "from sklearn.metrics import precision_score\r\n",
        "from sklearn.metrics import recall_score\r\n",
        "from sklearn.metrics import roc_auc_score\r\n",
        "from sklearn.metrics import mean_squared_error\r\n",
        "from sklearn.metrics import r2_score\r\n",
        "from sklearn.metrics import mean_absolute_error\r\n",
        "import pandas as pd\r\n",
        "from math import sqrt\r\n",
        "\r\n",
        "def predict_classes(x): # adjusted from keras github code\r\n",
        "  proba=x\r\n",
        "  if proba.shape[-1] > 1:\r\n",
        "      return proba.argmax(axis=-1)\r\n",
        "  else:\r\n",
        "      return (proba > 0.5).astype(\"int32\")\r\n",
        "\r\n",
        "def model_eval_metrics(y_true, y_pred,classification=\"TRUE\"):\r\n",
        "     if classification==\"TRUE\":\r\n",
        "        accuracy_eval = accuracy_score(y_true, y_pred)\r\n",
        "        f1_score_eval = f1_score(y_true, y_pred,average=\"macro\",zero_division=0)\r\n",
        "        precision_eval = precision_score(y_true, y_pred,average=\"macro\",zero_division=0)\r\n",
        "        recall_eval = recall_score(y_true, y_pred,average=\"macro\",zero_division=0)\r\n",
        "        mse_eval = 0\r\n",
        "        rmse_eval = 0\r\n",
        "        mae_eval = 0\r\n",
        "        r2_eval = 0\r\n",
        "        metricdata = {'accuracy': [accuracy_eval], 'f1_score': [f1_score_eval], 'precision': [precision_eval], 'recall': [recall_eval], 'mse': [mse_eval], 'rmse': [rmse_eval], 'mae': [mae_eval], 'r2': [r2_eval]}\r\n",
        "        finalmetricdata = pd.DataFrame.from_dict(metricdata)\r\n",
        "     else:\r\n",
        "        accuracy_eval = 0\r\n",
        "        f1_score_eval = 0\r\n",
        "        precision_eval = 0\r\n",
        "        recall_eval = 0\r\n",
        "        mse_eval = mean_squared_error(y_true, y_pred)\r\n",
        "        rmse_eval = sqrt(mean_squared_error(y_true, y_pred))\r\n",
        "        mae_eval = mean_absolute_error(y_true, y_pred)\r\n",
        "        r2_eval = r2_score(y_true, y_pred)\r\n",
        "        metricdata = {'accuracy': [accuracy_eval], 'f1_score': [f1_score_eval], 'precision': [precision_eval], 'recall': [recall_eval], 'mse': [mse_eval], 'rmse': [rmse_eval], 'mae': [mae_eval], 'r2': [r2_eval]}\r\n",
        "        finalmetricdata = pd.DataFrame.from_dict(metricdata)\r\n",
        "     return finalmetricdata"
      ],
      "execution_count": 15,
      "outputs": []
    },
    {
      "cell_type": "markdown",
      "metadata": {
        "id": "dZFrwffoRFcP"
      },
      "source": [
        "### Sequential model"
      ]
    },
    {
      "cell_type": "code",
      "metadata": {
        "colab": {
          "base_uri": "https://localhost:8080/"
        },
        "id": "pGsqDmVBRDer",
        "outputId": "206ecdc2-b908-4ead-f7ae-1fb1db605b81"
      },
      "source": [
        "with tf.device('/device:GPU:0'): #\"/GPU:0\": Short-hand notation for the first GPU of your machine that is visible to TensorFlow.\n",
        "\n",
        "  model = tf.keras.Sequential([\n",
        "    # input: images of size Sample size, height, width, channels 1x192x192x3 pixels (the three stands for RGB channels)    \n",
        "    tf.keras.layers.Conv2D(kernel_size=3, filters=64, padding='same', activation='relu', input_shape=(192, 192, 3)),\n",
        "    tf.keras.layers.Conv2D(kernel_size=1, filters=64, padding='same', activation='relu'),\n",
        "    tf.keras.layers.MaxPooling2D(pool_size=2),\n",
        "    tf.keras.layers.Conv2D(kernel_size=3, filters=32, padding='same', activation='relu'),\n",
        "    tf.keras.layers.Conv2D(kernel_size=1, filters=32, padding='same', activation='relu'),\n",
        "    tf.keras.layers.MaxPooling2D(pool_size=2),\n",
        "    tf.keras.layers.Conv2D(kernel_size=3, filters=64, padding='same', activation='relu'),\n",
        "    tf.keras.layers.Conv2D(kernel_size=1, filters=32, padding='same', activation='relu'),\n",
        "    tf.keras.layers.MaxPooling2D(pool_size=2),\n",
        "    tf.keras.layers.Conv2D(kernel_size=3, filters=64, padding='same', activation='relu'),\n",
        "    tf.keras.layers.Conv2D(kernel_size=1, filters=32, padding='same', activation='relu'),\n",
        "    tf.keras.layers.MaxPooling2D(pool_size=2),\n",
        "    tf.keras.layers.Conv2D(kernel_size=3, filters=16, padding='same', activation='relu'),\n",
        "    tf.keras.layers.Conv2D(kernel_size=1, filters=8, padding='same', activation='relu'),\n",
        "    tf.keras.layers.Flatten(),\n",
        "    # classifying into 3 categories\n",
        "    tf.keras.layers.Dense(3, activation='softmax')\n",
        "  ])\n",
        "\n",
        "  from tensorflow.python.keras.callbacks import ReduceLROnPlateau\n",
        "  red_lr= ReduceLROnPlateau(monitor='val_acc',patience=3,verbose=1,factor=0.1) \n",
        "\n",
        "  model.compile(\n",
        "    optimizer=\"adam\", # to use callback set lr arg such as Adam(lr=0.001) instead\n",
        "    loss= 'categorical_crossentropy',\n",
        "    metrics=['accuracy'])\n",
        "  \n",
        "  # Fitting the CNN to the Training set\n",
        "  model.fit(X_train, y_train, \n",
        "                    epochs = 20, verbose=1,callbacks=[red_lr]) #for callback that automatically adjusts lr"
      ],
      "execution_count": 16,
      "outputs": [
        {
          "output_type": "stream",
          "text": [
            "WARNING:tensorflow:From /tensorflow-1.15.2/python3.7/tensorflow_core/python/ops/resource_variable_ops.py:1630: calling BaseResourceVariable.__init__ (from tensorflow.python.ops.resource_variable_ops) with constraint is deprecated and will be removed in a future version.\n",
            "Instructions for updating:\n",
            "If using Keras pass *_constraint arguments to layers.\n",
            "Train on 3108 samples\n",
            "Epoch 1/20\n",
            "3104/3108 [============================>.] - ETA: 0s - loss: 0.6331 - acc: 0.6933WARNING:tensorflow:Reduce LR on plateau conditioned on metric `val_acc` which is not available. Available metrics are: loss,acc,lr\n",
            "3108/3108 [==============================] - 16s 5ms/sample - loss: 0.6324 - acc: 0.6937\n",
            "Epoch 2/20\n",
            "3104/3108 [============================>.] - ETA: 0s - loss: 0.2565 - acc: 0.9085WARNING:tensorflow:Reduce LR on plateau conditioned on metric `val_acc` which is not available. Available metrics are: loss,acc,lr\n",
            "3108/3108 [==============================] - 7s 2ms/sample - loss: 0.2562 - acc: 0.9086\n",
            "Epoch 3/20\n",
            "3104/3108 [============================>.] - ETA: 0s - loss: 0.2107 - acc: 0.9294WARNING:tensorflow:Reduce LR on plateau conditioned on metric `val_acc` which is not available. Available metrics are: loss,acc,lr\n",
            "3108/3108 [==============================] - 7s 2ms/sample - loss: 0.2106 - acc: 0.9295\n",
            "Epoch 4/20\n",
            "3104/3108 [============================>.] - ETA: 0s - loss: 0.1608 - acc: 0.9449WARNING:tensorflow:Reduce LR on plateau conditioned on metric `val_acc` which is not available. Available metrics are: loss,acc,lr\n",
            "3108/3108 [==============================] - 7s 2ms/sample - loss: 0.1607 - acc: 0.9450\n",
            "Epoch 5/20\n",
            "3104/3108 [============================>.] - ETA: 0s - loss: 0.1428 - acc: 0.9507WARNING:tensorflow:Reduce LR on plateau conditioned on metric `val_acc` which is not available. Available metrics are: loss,acc,lr\n",
            "3108/3108 [==============================] - 8s 2ms/sample - loss: 0.1427 - acc: 0.9508\n",
            "Epoch 6/20\n",
            "3104/3108 [============================>.] - ETA: 0s - loss: 0.1127 - acc: 0.9620WARNING:tensorflow:Reduce LR on plateau conditioned on metric `val_acc` which is not available. Available metrics are: loss,acc,lr\n",
            "3108/3108 [==============================] - 8s 2ms/sample - loss: 0.1125 - acc: 0.9620\n",
            "Epoch 7/20\n",
            "3104/3108 [============================>.] - ETA: 0s - loss: 0.1147 - acc: 0.9613WARNING:tensorflow:Reduce LR on plateau conditioned on metric `val_acc` which is not available. Available metrics are: loss,acc,lr\n",
            "3108/3108 [==============================] - 8s 2ms/sample - loss: 0.1157 - acc: 0.9611\n",
            "Epoch 8/20\n",
            "3104/3108 [============================>.] - ETA: 0s - loss: 0.1070 - acc: 0.9630WARNING:tensorflow:Reduce LR on plateau conditioned on metric `val_acc` which is not available. Available metrics are: loss,acc,lr\n",
            "3108/3108 [==============================] - 8s 2ms/sample - loss: 0.1069 - acc: 0.9630\n",
            "Epoch 9/20\n",
            "3104/3108 [============================>.] - ETA: 0s - loss: 0.0737 - acc: 0.9745WARNING:tensorflow:Reduce LR on plateau conditioned on metric `val_acc` which is not available. Available metrics are: loss,acc,lr\n",
            "3108/3108 [==============================] - 8s 2ms/sample - loss: 0.0736 - acc: 0.9746\n",
            "Epoch 10/20\n",
            "3104/3108 [============================>.] - ETA: 0s - loss: 0.0980 - acc: 0.9675WARNING:tensorflow:Reduce LR on plateau conditioned on metric `val_acc` which is not available. Available metrics are: loss,acc,lr\n",
            "3108/3108 [==============================] - 8s 2ms/sample - loss: 0.0978 - acc: 0.9675\n",
            "Epoch 11/20\n",
            "3104/3108 [============================>.] - ETA: 0s - loss: 0.0557 - acc: 0.9791WARNING:tensorflow:Reduce LR on plateau conditioned on metric `val_acc` which is not available. Available metrics are: loss,acc,lr\n",
            "3108/3108 [==============================] - 8s 2ms/sample - loss: 0.0556 - acc: 0.9791\n",
            "Epoch 12/20\n",
            "3104/3108 [============================>.] - ETA: 0s - loss: 0.0586 - acc: 0.9771WARNING:tensorflow:Reduce LR on plateau conditioned on metric `val_acc` which is not available. Available metrics are: loss,acc,lr\n",
            "3108/3108 [==============================] - 8s 2ms/sample - loss: 0.0585 - acc: 0.9772\n",
            "Epoch 13/20\n",
            "3104/3108 [============================>.] - ETA: 0s - loss: 0.0574 - acc: 0.9803WARNING:tensorflow:Reduce LR on plateau conditioned on metric `val_acc` which is not available. Available metrics are: loss,acc,lr\n",
            "3108/3108 [==============================] - 8s 2ms/sample - loss: 0.0573 - acc: 0.9804\n",
            "Epoch 14/20\n",
            "3104/3108 [============================>.] - ETA: 0s - loss: 0.0473 - acc: 0.9832WARNING:tensorflow:Reduce LR on plateau conditioned on metric `val_acc` which is not available. Available metrics are: loss,acc,lr\n",
            "3108/3108 [==============================] - 8s 3ms/sample - loss: 0.0472 - acc: 0.9833\n",
            "Epoch 15/20\n",
            "3104/3108 [============================>.] - ETA: 0s - loss: 0.0314 - acc: 0.9884WARNING:tensorflow:Reduce LR on plateau conditioned on metric `val_acc` which is not available. Available metrics are: loss,acc,lr\n",
            "3108/3108 [==============================] - 8s 3ms/sample - loss: 0.0319 - acc: 0.9881\n",
            "Epoch 16/20\n",
            "3104/3108 [============================>.] - ETA: 0s - loss: 0.0709 - acc: 0.9736WARNING:tensorflow:Reduce LR on plateau conditioned on metric `val_acc` which is not available. Available metrics are: loss,acc,lr\n",
            "3108/3108 [==============================] - 8s 3ms/sample - loss: 0.0708 - acc: 0.9736\n",
            "Epoch 17/20\n",
            "3104/3108 [============================>.] - ETA: 0s - loss: 0.0395 - acc: 0.9858WARNING:tensorflow:Reduce LR on plateau conditioned on metric `val_acc` which is not available. Available metrics are: loss,acc,lr\n",
            "3108/3108 [==============================] - 8s 3ms/sample - loss: 0.0395 - acc: 0.9858\n",
            "Epoch 18/20\n",
            "3104/3108 [============================>.] - ETA: 0s - loss: 0.0271 - acc: 0.9907WARNING:tensorflow:Reduce LR on plateau conditioned on metric `val_acc` which is not available. Available metrics are: loss,acc,lr\n",
            "3108/3108 [==============================] - 8s 3ms/sample - loss: 0.0270 - acc: 0.9907\n",
            "Epoch 19/20\n",
            "3104/3108 [============================>.] - ETA: 0s - loss: 0.0333 - acc: 0.9900WARNING:tensorflow:Reduce LR on plateau conditioned on metric `val_acc` which is not available. Available metrics are: loss,acc,lr\n",
            "3108/3108 [==============================] - 8s 3ms/sample - loss: 0.0333 - acc: 0.9900\n",
            "Epoch 20/20\n",
            "3104/3108 [============================>.] - ETA: 0s - loss: 0.0197 - acc: 0.9929WARNING:tensorflow:Reduce LR on plateau conditioned on metric `val_acc` which is not available. Available metrics are: loss,acc,lr\n",
            "3108/3108 [==============================] - 8s 2ms/sample - loss: 0.0196 - acc: 0.9929\n"
          ],
          "name": "stdout"
        }
      ]
    },
    {
      "cell_type": "code",
      "metadata": {
        "id": "-WvR0Zd_RDct"
      },
      "source": [
        "print(predict_classes(model.predict(X_test)))\n",
        "prediction_index=predict_classes(model.predict(X_test))\n",
        "labels=pd.get_dummies(y_train).columns\n",
        "predicted_labels=list(map(lambda x: labels[x], prediction_index))\n",
        "print(predicted_labels)"
      ],
      "execution_count": null,
      "outputs": []
    },
    {
      "cell_type": "code",
      "metadata": {
        "id": "QsFKPbJwRDaI"
      },
      "source": [
        "# y_test is one hot encoded so we need to extract labels before runing model_eval_metrics()\n",
        "y_test_labels=y_test.idxmax(axis=1) #extract labels from one hot encoded y_test object\n",
        "\n",
        "y_test_labels=list(y_test.idxmax(axis=1)) #returns a pandas series of predicted labels"
      ],
      "execution_count": 18,
      "outputs": []
    },
    {
      "cell_type": "code",
      "metadata": {
        "colab": {
          "base_uri": "https://localhost:8080/",
          "height": 80
        },
        "id": "jeuhR6uPRDRy",
        "outputId": "31e56cc4-5791-47d9-9852-cb5bba2a8799"
      },
      "source": [
        "model_eval_metrics( y_test_labels,predicted_labels,classification=\"TRUE\")"
      ],
      "execution_count": 19,
      "outputs": [
        {
          "output_type": "execute_result",
          "data": {
            "text/html": [
              "<div>\n",
              "<style scoped>\n",
              "    .dataframe tbody tr th:only-of-type {\n",
              "        vertical-align: middle;\n",
              "    }\n",
              "\n",
              "    .dataframe tbody tr th {\n",
              "        vertical-align: top;\n",
              "    }\n",
              "\n",
              "    .dataframe thead th {\n",
              "        text-align: right;\n",
              "    }\n",
              "</style>\n",
              "<table border=\"1\" class=\"dataframe\">\n",
              "  <thead>\n",
              "    <tr style=\"text-align: right;\">\n",
              "      <th></th>\n",
              "      <th>accuracy</th>\n",
              "      <th>f1_score</th>\n",
              "      <th>precision</th>\n",
              "      <th>recall</th>\n",
              "      <th>mse</th>\n",
              "      <th>rmse</th>\n",
              "      <th>mae</th>\n",
              "      <th>r2</th>\n",
              "    </tr>\n",
              "  </thead>\n",
              "  <tbody>\n",
              "    <tr>\n",
              "      <th>0</th>\n",
              "      <td>0.96401</td>\n",
              "      <td>0.964414</td>\n",
              "      <td>0.964441</td>\n",
              "      <td>0.964405</td>\n",
              "      <td>0</td>\n",
              "      <td>0</td>\n",
              "      <td>0</td>\n",
              "      <td>0</td>\n",
              "    </tr>\n",
              "  </tbody>\n",
              "</table>\n",
              "</div>"
            ],
            "text/plain": [
              "   accuracy  f1_score  precision    recall  mse  rmse  mae  r2\n",
              "0   0.96401  0.964414   0.964441  0.964405    0     0    0   0"
            ]
          },
          "metadata": {
            "tags": []
          },
          "execution_count": 19
        }
      ]
    },
    {
      "cell_type": "markdown",
      "metadata": {
        "id": "E7-F6xvjYC2o"
      },
      "source": [
        "### Squeezenet model"
      ]
    },
    {
      "cell_type": "code",
      "metadata": {
        "colab": {
          "base_uri": "https://localhost:8080/"
        },
        "id": "CXkhZrQrWajv",
        "outputId": "27cf5258-547a-4f1e-ddaf-50287a530be7"
      },
      "source": [
        "l = tf.keras.layers # syntax shortcut\n",
        "\n",
        "# Create function to define fire modules\n",
        "def fire(x, squeeze, expand):\n",
        "  y = l.Conv2D(filters=squeeze, kernel_size=1, padding='same', activation='relu')(x) \n",
        "  y1 = l.Conv2D(filters=expand//2, kernel_size=1, padding='same', activation='relu')(y) # note: //2 takes input value and divides by 2, so we reach the dimensions requested with stacking later.\n",
        "  y3 = l.Conv2D(filters=expand//2, kernel_size=3, padding='same', activation='relu')(y)\n",
        "  return tf.keras.layers.concatenate([y1, y3])\n",
        "\n",
        "# this is to make it behave similarly to other Keras layers\n",
        "def fire_module(squeeze, expand):\n",
        "  return lambda x: fire(x, squeeze, expand)\n",
        "\n",
        "with tf.device('/device:GPU:0'): \n",
        "            x = tf.keras.layers.Input(shape=[192,192, 3]) # input is 192x192 pixels RGB\n",
        "            # x (input layer) stacked on top of the convolutional layer\n",
        "            y = tf.keras.layers.Conv2D(kernel_size=3, filters=32, padding='same', activation='relu')(x)\n",
        "            y = fire_module(34, 68)(y)\n",
        "            y = tf.keras.layers.MaxPooling2D(pool_size=2)(y)\n",
        "            y = fire_module(34, 68)(y)\n",
        "            y = tf.keras.layers.MaxPooling2D(pool_size=2)(y)\n",
        "            y = fire_module(34, 68)(y)\n",
        "            y = tf.keras.layers.GlobalAveragePooling2D()(y) # Takes average of h x w for each channel and returns 1 scalar value per channel\n",
        "            y = tf.keras.layers.Dense(3, activation='softmax')(y) # Parameters for final layer from GAP = number of channels in previous layer plus number of dense nodes in output layer times number of dense nodes\n",
        "\n",
        "            model = tf.keras.Model(x, y)\n",
        "        \n",
        "            model.compile(loss='categorical_crossentropy', optimizer='adam', metrics=['acc', 'AUC']) \n",
        "        \n",
        "            model.fit(X_train, y_train, \n",
        "                    epochs = 25, verbose=1)"
      ],
      "execution_count": 27,
      "outputs": [
        {
          "output_type": "stream",
          "text": [
            "Train on 3108 samples\n",
            "Epoch 1/25\n",
            "3108/3108 [==============================] - 17s 6ms/sample - loss: 1.0357 - acc: 0.4044 - auc: 0.6462\n",
            "Epoch 2/25\n",
            "3108/3108 [==============================] - 15s 5ms/sample - loss: 0.8771 - acc: 0.5730 - auc: 0.7912\n",
            "Epoch 3/25\n",
            "3108/3108 [==============================] - 15s 5ms/sample - loss: 0.7143 - acc: 0.6760 - auc: 0.8660\n",
            "Epoch 4/25\n",
            "3108/3108 [==============================] - 15s 5ms/sample - loss: 0.6127 - acc: 0.7233 - auc: 0.8978\n",
            "Epoch 5/25\n",
            "3108/3108 [==============================] - 14s 5ms/sample - loss: 0.5597 - acc: 0.7632 - auc: 0.9154\n",
            "Epoch 6/25\n",
            "3108/3108 [==============================] - 14s 5ms/sample - loss: 0.5034 - acc: 0.8053 - auc: 0.9326\n",
            "Epoch 7/25\n",
            "3108/3108 [==============================] - 14s 5ms/sample - loss: 0.4523 - acc: 0.8285 - auc: 0.9445\n",
            "Epoch 8/25\n",
            "3108/3108 [==============================] - 15s 5ms/sample - loss: 0.3885 - acc: 0.8520 - auc: 0.9579\n",
            "Epoch 9/25\n",
            "3108/3108 [==============================] - 15s 5ms/sample - loss: 0.3741 - acc: 0.8645 - auc: 0.9605\n",
            "Epoch 10/25\n",
            "3108/3108 [==============================] - 15s 5ms/sample - loss: 0.3445 - acc: 0.8732 - auc: 0.9669\n",
            "Epoch 11/25\n",
            "3108/3108 [==============================] - 15s 5ms/sample - loss: 0.3569 - acc: 0.8649 - auc: 0.9638\n",
            "Epoch 12/25\n",
            "3108/3108 [==============================] - 14s 5ms/sample - loss: 0.3288 - acc: 0.8800 - auc: 0.9691\n",
            "Epoch 13/25\n",
            "3108/3108 [==============================] - 15s 5ms/sample - loss: 0.3137 - acc: 0.8848 - auc: 0.9716\n",
            "Epoch 14/25\n",
            "3108/3108 [==============================] - 15s 5ms/sample - loss: 0.2878 - acc: 0.8977 - auc: 0.9757\n",
            "Epoch 15/25\n",
            "3108/3108 [==============================] - 15s 5ms/sample - loss: 0.2669 - acc: 0.9032 - auc: 0.9790\n",
            "Epoch 16/25\n",
            "3108/3108 [==============================] - 15s 5ms/sample - loss: 0.2679 - acc: 0.9035 - auc: 0.9791\n",
            "Epoch 17/25\n",
            "3108/3108 [==============================] - 15s 5ms/sample - loss: 0.2457 - acc: 0.9099 - auc: 0.9823\n",
            "Epoch 18/25\n",
            "3108/3108 [==============================] - 15s 5ms/sample - loss: 0.2339 - acc: 0.9160 - auc: 0.9834\n",
            "Epoch 19/25\n",
            "3108/3108 [==============================] - 15s 5ms/sample - loss: 0.2260 - acc: 0.9212 - auc: 0.9841\n",
            "Epoch 20/25\n",
            "3108/3108 [==============================] - 15s 5ms/sample - loss: 0.2189 - acc: 0.9250 - auc: 0.9856\n",
            "Epoch 21/25\n",
            "3108/3108 [==============================] - 15s 5ms/sample - loss: 0.2593 - acc: 0.9060 - auc: 0.9802\n",
            "Epoch 22/25\n",
            "3108/3108 [==============================] - 15s 5ms/sample - loss: 0.2216 - acc: 0.9244 - auc: 0.9850\n",
            "Epoch 23/25\n",
            "3108/3108 [==============================] - 15s 5ms/sample - loss: 0.2049 - acc: 0.9295 - auc: 0.9870\n",
            "Epoch 24/25\n",
            "3108/3108 [==============================] - 15s 5ms/sample - loss: 0.2100 - acc: 0.9273 - auc: 0.9866\n",
            "Epoch 25/25\n",
            "3108/3108 [==============================] - 15s 5ms/sample - loss: 0.1931 - acc: 0.9302 - auc: 0.9889\n"
          ],
          "name": "stdout"
        }
      ]
    },
    {
      "cell_type": "code",
      "metadata": {
        "id": "sg71ypS-X5lM"
      },
      "source": [
        "print(predict_classes(model.predict(X_test)))\n",
        "prediction_index=predict_classes(model.predict(X_test))\n",
        "labels=pd.get_dummies(y_train).columns\n",
        "predicted_labels=list(map(lambda x: labels[x], prediction_index))\n",
        "print(predicted_labels)"
      ],
      "execution_count": null,
      "outputs": []
    },
    {
      "cell_type": "code",
      "metadata": {
        "id": "OLnwusuMX5lP"
      },
      "source": [
        "# y_test is one hot encoded so we need to extract labels before runing model_eval_metrics()\n",
        "y_test_labels=y_test.idxmax(axis=1) #extract labels from one hot encoded y_test object\n",
        "\n",
        "y_test_labels=list(y_test.idxmax(axis=1)) #returns a pandas series of predicted labels"
      ],
      "execution_count": 29,
      "outputs": []
    },
    {
      "cell_type": "code",
      "metadata": {
        "colab": {
          "base_uri": "https://localhost:8080/",
          "height": 80
        },
        "id": "YHTNp5WRX5lP",
        "outputId": "6de291c8-6ca5-4956-ef2d-4e2fe762f6d1"
      },
      "source": [
        "model_eval_metrics( y_test_labels,predicted_labels,classification=\"TRUE\")"
      ],
      "execution_count": 30,
      "outputs": [
        {
          "output_type": "execute_result",
          "data": {
            "text/html": [
              "<div>\n",
              "<style scoped>\n",
              "    .dataframe tbody tr th:only-of-type {\n",
              "        vertical-align: middle;\n",
              "    }\n",
              "\n",
              "    .dataframe tbody tr th {\n",
              "        vertical-align: top;\n",
              "    }\n",
              "\n",
              "    .dataframe thead th {\n",
              "        text-align: right;\n",
              "    }\n",
              "</style>\n",
              "<table border=\"1\" class=\"dataframe\">\n",
              "  <thead>\n",
              "    <tr style=\"text-align: right;\">\n",
              "      <th></th>\n",
              "      <th>accuracy</th>\n",
              "      <th>f1_score</th>\n",
              "      <th>precision</th>\n",
              "      <th>recall</th>\n",
              "      <th>mse</th>\n",
              "      <th>rmse</th>\n",
              "      <th>mae</th>\n",
              "      <th>r2</th>\n",
              "    </tr>\n",
              "  </thead>\n",
              "  <tbody>\n",
              "    <tr>\n",
              "      <th>0</th>\n",
              "      <td>0.929306</td>\n",
              "      <td>0.92975</td>\n",
              "      <td>0.929492</td>\n",
              "      <td>0.931247</td>\n",
              "      <td>0</td>\n",
              "      <td>0</td>\n",
              "      <td>0</td>\n",
              "      <td>0</td>\n",
              "    </tr>\n",
              "  </tbody>\n",
              "</table>\n",
              "</div>"
            ],
            "text/plain": [
              "   accuracy  f1_score  precision    recall  mse  rmse  mae  r2\n",
              "0  0.929306   0.92975   0.929492  0.931247    0     0    0   0"
            ]
          },
          "metadata": {
            "tags": []
          },
          "execution_count": 30
        }
      ]
    },
    {
      "cell_type": "markdown",
      "metadata": {
        "id": "44kowyVlSF7I"
      },
      "source": [
        "------------------------"
      ]
    },
    {
      "cell_type": "markdown",
      "metadata": {
        "id": "qKoeZEHtKHnF"
      },
      "source": [
        "### Squeezenet model with batch normalization"
      ]
    },
    {
      "cell_type": "code",
      "metadata": {
        "colab": {
          "base_uri": "https://localhost:8080/"
        },
        "id": "NVJawo7TKHNd",
        "outputId": "b9710212-9121-40ea-f1c0-677ed00cf280"
      },
      "source": [
        "with tf.device('/device:GPU:0'): #\"/GPU:0\": Short-hand notation for the first GPU of your machine that is visible to TensorFlow.\n",
        "\n",
        "  def fire(x, squeeze, expand):\n",
        "    y  = tf.keras.layers.Conv2D(filters=squeeze, kernel_size=1, activation='relu', padding='same')(x)\n",
        "    y = tf.keras.layers.BatchNormalization()(y)\n",
        "    y1 = tf.keras.layers.Conv2D(filters=expand//2, kernel_size=1, activation='relu', padding='same')(y)\n",
        "    y1 = tf.keras.layers.BatchNormalization()(y1)\n",
        "    y3 = tf.keras.layers.Conv2D(filters=expand//2, kernel_size=5, activation='relu', padding='same')(y)\n",
        "    y3 = tf.keras.layers.BatchNormalization()(y3)\n",
        "    return tf.keras.layers.concatenate([y1, y3])\n",
        "\n",
        "  def fire_module(squeeze, expand):\n",
        "    return lambda x: fire(x, squeeze, expand)\n",
        "\n",
        "  x = tf.keras.layers.Input(shape=[192,192, 3]) # input is 192x192 pixels RGB\n",
        "\n",
        "  y = tf.keras.layers.Conv2D(kernel_size=3, filters=96, padding='same',  activation='relu')(x)\n",
        "  y = tf.keras.layers.BatchNormalization()(y)\n",
        "  y = fire_module(24, 48)(y)\n",
        "  y = tf.keras.layers.MaxPooling2D(pool_size=2)(y)\n",
        "  y = fire_module(48, 96)(y)\n",
        "  y = tf.keras.layers.MaxPooling2D(pool_size=2)(y)\n",
        "  y = fire_module(64, 128)(y)\n",
        "  y = tf.keras.layers.MaxPooling2D(pool_size=2)(y)\n",
        "  y = fire_module(72, 256)(y)\n",
        "  y = tf.keras.layers.MaxPooling2D(pool_size=2)(y)\n",
        "  y = fire_module(96, 512)(y)\n",
        "  y = tf.keras.layers.GlobalAveragePooling2D()(y) # Takes average of h x w for each channel and returns 1 scalar value per channel\n",
        "  y = tf.keras.layers.Dense(3, activation='softmax')(y)\n",
        "\n",
        "  model = tf.keras.Model(x, y)\n",
        "\n",
        "  model.compile(\n",
        "    optimizer='adam',\n",
        "    loss= 'categorical_crossentropy',\n",
        "    metrics=['accuracy','AUC'])\n",
        "\n",
        "  model.compile(loss='categorical_crossentropy', optimizer='adam', metrics=['acc','AUC']) \n",
        "\n",
        "  model.fit(X_train, y_train,\n",
        "          epochs = 20, verbose=1)"
      ],
      "execution_count": 66,
      "outputs": [
        {
          "output_type": "stream",
          "text": [
            "Train on 3108 samples\n",
            "Epoch 1/20\n",
            "3108/3108 [==============================] - 29s 9ms/sample - loss: 0.3632 - acc: 0.8793 - auc_46: 0.9641\n",
            "Epoch 2/20\n",
            "3108/3108 [==============================] - 26s 8ms/sample - loss: 0.1646 - acc: 0.9379 - auc_46: 0.9918\n",
            "Epoch 3/20\n",
            "3108/3108 [==============================] - 26s 8ms/sample - loss: 0.1180 - acc: 0.9595 - auc_46: 0.9952\n",
            "Epoch 4/20\n",
            "3108/3108 [==============================] - 26s 8ms/sample - loss: 0.0932 - acc: 0.9636 - auc_46: 0.9972\n",
            "Epoch 5/20\n",
            "3108/3108 [==============================] - 26s 8ms/sample - loss: 0.1165 - acc: 0.9585 - auc_46: 0.9956\n",
            "Epoch 6/20\n",
            "3108/3108 [==============================] - 26s 8ms/sample - loss: 0.1126 - acc: 0.9601 - auc_46: 0.9957\n",
            "Epoch 7/20\n",
            "3108/3108 [==============================] - 26s 8ms/sample - loss: 0.0688 - acc: 0.9759 - auc_46: 0.9986\n",
            "Epoch 8/20\n",
            "3108/3108 [==============================] - 26s 8ms/sample - loss: 0.0720 - acc: 0.9743 - auc_46: 0.9984\n",
            "Epoch 9/20\n",
            "3108/3108 [==============================] - 26s 8ms/sample - loss: 0.0408 - acc: 0.9875 - auc_46: 0.9993\n",
            "Epoch 10/20\n",
            "3108/3108 [==============================] - 26s 8ms/sample - loss: 0.0427 - acc: 0.9839 - auc_46: 0.9990\n",
            "Epoch 11/20\n",
            "3108/3108 [==============================] - 26s 8ms/sample - loss: 0.0329 - acc: 0.9891 - auc_46: 0.9992\n",
            "Epoch 12/20\n",
            "3108/3108 [==============================] - 26s 8ms/sample - loss: 0.0275 - acc: 0.9910 - auc_46: 0.9996\n",
            "Epoch 13/20\n",
            "3108/3108 [==============================] - 26s 8ms/sample - loss: 0.0287 - acc: 0.9887 - auc_46: 0.9998\n",
            "Epoch 14/20\n",
            "3108/3108 [==============================] - 26s 8ms/sample - loss: 0.0365 - acc: 0.9858 - auc_46: 0.9994\n",
            "Epoch 15/20\n",
            "3108/3108 [==============================] - 26s 8ms/sample - loss: 0.0391 - acc: 0.9852 - auc_46: 0.9989\n",
            "Epoch 16/20\n",
            "3108/3108 [==============================] - 26s 8ms/sample - loss: 0.0506 - acc: 0.9852 - auc_46: 0.9987\n",
            "Epoch 17/20\n",
            "3108/3108 [==============================] - 26s 8ms/sample - loss: 0.0952 - acc: 0.9665 - auc_46: 0.9970\n",
            "Epoch 18/20\n",
            "3108/3108 [==============================] - 26s 8ms/sample - loss: 0.0396 - acc: 0.9849 - auc_46: 0.9996\n",
            "Epoch 19/20\n",
            "3108/3108 [==============================] - 26s 8ms/sample - loss: 0.0405 - acc: 0.9852 - auc_46: 0.9995\n",
            "Epoch 20/20\n",
            "3108/3108 [==============================] - 26s 8ms/sample - loss: 0.0207 - acc: 0.9932 - auc_46: 0.9999\n"
          ],
          "name": "stdout"
        }
      ]
    },
    {
      "cell_type": "code",
      "metadata": {
        "id": "cn_rgz8iMspF"
      },
      "source": [
        "print(predict_classes(model.predict(X_test)))\n",
        "prediction_index=predict_classes(model.predict(X_test))\n",
        "labels=pd.get_dummies(y_train).columns\n",
        "predicted_labels=list(map(lambda x: labels[x], prediction_index))\n",
        "print(predicted_labels)"
      ],
      "execution_count": null,
      "outputs": []
    },
    {
      "cell_type": "code",
      "metadata": {
        "id": "yS1s8G_GMspJ"
      },
      "source": [
        "# y_test is one hot encoded so we need to extract labels before runing model_eval_metrics()\n",
        "y_test_labels=y_test.idxmax(axis=1) #extract labels from one hot encoded y_test object\n",
        "\n",
        "y_test_labels=list(y_test.idxmax(axis=1)) #returns a pandas series of predicted labels"
      ],
      "execution_count": 68,
      "outputs": []
    },
    {
      "cell_type": "code",
      "metadata": {
        "colab": {
          "base_uri": "https://localhost:8080/",
          "height": 80
        },
        "id": "xXqVgxfQMspJ",
        "outputId": "a592497a-ed21-487b-cb2c-20b1ae2d1d25"
      },
      "source": [
        "model_eval_metrics( y_test_labels,predicted_labels,classification=\"TRUE\")"
      ],
      "execution_count": 69,
      "outputs": [
        {
          "output_type": "execute_result",
          "data": {
            "text/html": [
              "<div>\n",
              "<style scoped>\n",
              "    .dataframe tbody tr th:only-of-type {\n",
              "        vertical-align: middle;\n",
              "    }\n",
              "\n",
              "    .dataframe tbody tr th {\n",
              "        vertical-align: top;\n",
              "    }\n",
              "\n",
              "    .dataframe thead th {\n",
              "        text-align: right;\n",
              "    }\n",
              "</style>\n",
              "<table border=\"1\" class=\"dataframe\">\n",
              "  <thead>\n",
              "    <tr style=\"text-align: right;\">\n",
              "      <th></th>\n",
              "      <th>accuracy</th>\n",
              "      <th>f1_score</th>\n",
              "      <th>precision</th>\n",
              "      <th>recall</th>\n",
              "      <th>mse</th>\n",
              "      <th>rmse</th>\n",
              "      <th>mae</th>\n",
              "      <th>r2</th>\n",
              "    </tr>\n",
              "  </thead>\n",
              "  <tbody>\n",
              "    <tr>\n",
              "      <th>0</th>\n",
              "      <td>0.780206</td>\n",
              "      <td>0.762473</td>\n",
              "      <td>0.861516</td>\n",
              "      <td>0.787954</td>\n",
              "      <td>0</td>\n",
              "      <td>0</td>\n",
              "      <td>0</td>\n",
              "      <td>0</td>\n",
              "    </tr>\n",
              "  </tbody>\n",
              "</table>\n",
              "</div>"
            ],
            "text/plain": [
              "   accuracy  f1_score  precision    recall  mse  rmse  mae  r2\n",
              "0  0.780206  0.762473   0.861516  0.787954    0     0    0   0"
            ]
          },
          "metadata": {
            "tags": []
          },
          "execution_count": 69
        }
      ]
    },
    {
      "cell_type": "markdown",
      "metadata": {
        "id": "fk-KVdJoR-N6"
      },
      "source": [
        "The squeezenet model does not perform as well with batch normalization."
      ]
    },
    {
      "cell_type": "markdown",
      "metadata": {
        "id": "x2Ugtfy6SChQ"
      },
      "source": [
        "-------------------"
      ]
    },
    {
      "cell_type": "markdown",
      "metadata": {
        "id": "x1iCwkjOYuAk"
      },
      "source": [
        "### VGG16 model"
      ]
    },
    {
      "cell_type": "code",
      "metadata": {
        "colab": {
          "base_uri": "https://localhost:8080/"
        },
        "id": "NM-3J4J9YT6d",
        "outputId": "32a8bd9c-0153-4ffd-f361-58a510f735a3"
      },
      "source": [
        "IMG_SHAPE = (192, 192, 3)\n",
        "\n",
        "base_model = InceptionV3(input_shape=IMG_SHAPE, include_top=False, weights='imagenet')\n",
        "# base_model.summary() # Notice unfrozen number of trainable parameters\n",
        "\n",
        "# Create new classifier layers (and plug into output of last layer from above model using \"model.layers[-1].output\")\n",
        "flat1 = Flatten()(base_model.layers[-1].output)\n",
        "class1 = Dense(1024, activation='relu')(flat1)\n",
        "output = Dense(3, activation='softmax')(class1)\n",
        "# define new model\n",
        "model = Model(inputs=base_model.inputs, outputs=output) #base_model.inputs imports the vgg16 model defined in base_model\n",
        "  \n",
        "# Fit VGG16 model with frozen imagent weights and new input/output layer shapes (outputs have trainable parameters)\n",
        "\n",
        "with tf.device('/device:GPU:0'): \n",
        "  from tensorflow.python.keras.callbacks import ReduceLROnPlateau\n",
        "  from tensorflow.python.keras.callbacks import ModelCheckpoint\n",
        "  \n",
        "  mc = ModelCheckpoint('best_model.h5', monitor='AUC',mode='max', verbose=1, save_best_only=True)\n",
        "  red_lr= ReduceLROnPlateau(monitor='AUC',patience=2,verbose=1,factor=0.5, min_lr=0.001) # dividing lr by 2 when val_accuracy fails to improve after 2 epochs\n",
        "\n",
        "  model.compile(loss='categorical_crossentropy', optimizer='sgd', metrics=['acc','AUC']) \n",
        "\n",
        "  model.fit(X_train, y_train,batch_size=1,\n",
        "          epochs = 25, verbose=1,callbacks=[mc,red_lr])"
      ],
      "execution_count": 31,
      "outputs": [
        {
          "output_type": "stream",
          "text": [
            "Downloading data from https://github.com/fchollet/deep-learning-models/releases/download/v0.5/inception_v3_weights_tf_dim_ordering_tf_kernels_notop.h5\n",
            "87916544/87910968 [==============================] - 1s 0us/step\n",
            "Model: \"inception_v3\"\n",
            "__________________________________________________________________________________________________\n",
            "Layer (type)                    Output Shape         Param #     Connected to                     \n",
            "==================================================================================================\n",
            "input_2 (InputLayer)            [(None, 192, 192, 3) 0                                            \n",
            "__________________________________________________________________________________________________\n",
            "conv2d_20 (Conv2D)              (None, 95, 95, 32)   864         input_2[0][0]                    \n",
            "__________________________________________________________________________________________________\n",
            "batch_normalization (BatchNorma (None, 95, 95, 32)   96          conv2d_20[0][0]                  \n",
            "__________________________________________________________________________________________________\n",
            "activation (Activation)         (None, 95, 95, 32)   0           batch_normalization[0][0]        \n",
            "__________________________________________________________________________________________________\n",
            "conv2d_21 (Conv2D)              (None, 93, 93, 32)   9216        activation[0][0]                 \n",
            "__________________________________________________________________________________________________\n",
            "batch_normalization_1 (BatchNor (None, 93, 93, 32)   96          conv2d_21[0][0]                  \n",
            "__________________________________________________________________________________________________\n",
            "activation_1 (Activation)       (None, 93, 93, 32)   0           batch_normalization_1[0][0]      \n",
            "__________________________________________________________________________________________________\n",
            "conv2d_22 (Conv2D)              (None, 93, 93, 64)   18432       activation_1[0][0]               \n",
            "__________________________________________________________________________________________________\n",
            "batch_normalization_2 (BatchNor (None, 93, 93, 64)   192         conv2d_22[0][0]                  \n",
            "__________________________________________________________________________________________________\n",
            "activation_2 (Activation)       (None, 93, 93, 64)   0           batch_normalization_2[0][0]      \n",
            "__________________________________________________________________________________________________\n",
            "max_pooling2d_6 (MaxPooling2D)  (None, 46, 46, 64)   0           activation_2[0][0]               \n",
            "__________________________________________________________________________________________________\n",
            "conv2d_23 (Conv2D)              (None, 46, 46, 80)   5120        max_pooling2d_6[0][0]            \n",
            "__________________________________________________________________________________________________\n",
            "batch_normalization_3 (BatchNor (None, 46, 46, 80)   240         conv2d_23[0][0]                  \n",
            "__________________________________________________________________________________________________\n",
            "activation_3 (Activation)       (None, 46, 46, 80)   0           batch_normalization_3[0][0]      \n",
            "__________________________________________________________________________________________________\n",
            "conv2d_24 (Conv2D)              (None, 44, 44, 192)  138240      activation_3[0][0]               \n",
            "__________________________________________________________________________________________________\n",
            "batch_normalization_4 (BatchNor (None, 44, 44, 192)  576         conv2d_24[0][0]                  \n",
            "__________________________________________________________________________________________________\n",
            "activation_4 (Activation)       (None, 44, 44, 192)  0           batch_normalization_4[0][0]      \n",
            "__________________________________________________________________________________________________\n",
            "max_pooling2d_7 (MaxPooling2D)  (None, 21, 21, 192)  0           activation_4[0][0]               \n",
            "__________________________________________________________________________________________________\n",
            "conv2d_28 (Conv2D)              (None, 21, 21, 64)   12288       max_pooling2d_7[0][0]            \n",
            "__________________________________________________________________________________________________\n",
            "batch_normalization_8 (BatchNor (None, 21, 21, 64)   192         conv2d_28[0][0]                  \n",
            "__________________________________________________________________________________________________\n",
            "activation_8 (Activation)       (None, 21, 21, 64)   0           batch_normalization_8[0][0]      \n",
            "__________________________________________________________________________________________________\n",
            "conv2d_26 (Conv2D)              (None, 21, 21, 48)   9216        max_pooling2d_7[0][0]            \n",
            "__________________________________________________________________________________________________\n",
            "conv2d_29 (Conv2D)              (None, 21, 21, 96)   55296       activation_8[0][0]               \n",
            "__________________________________________________________________________________________________\n",
            "batch_normalization_6 (BatchNor (None, 21, 21, 48)   144         conv2d_26[0][0]                  \n",
            "__________________________________________________________________________________________________\n",
            "batch_normalization_9 (BatchNor (None, 21, 21, 96)   288         conv2d_29[0][0]                  \n",
            "__________________________________________________________________________________________________\n",
            "activation_6 (Activation)       (None, 21, 21, 48)   0           batch_normalization_6[0][0]      \n",
            "__________________________________________________________________________________________________\n",
            "activation_9 (Activation)       (None, 21, 21, 96)   0           batch_normalization_9[0][0]      \n",
            "__________________________________________________________________________________________________\n",
            "average_pooling2d (AveragePooli (None, 21, 21, 192)  0           max_pooling2d_7[0][0]            \n",
            "__________________________________________________________________________________________________\n",
            "conv2d_25 (Conv2D)              (None, 21, 21, 64)   12288       max_pooling2d_7[0][0]            \n",
            "__________________________________________________________________________________________________\n",
            "conv2d_27 (Conv2D)              (None, 21, 21, 64)   76800       activation_6[0][0]               \n",
            "__________________________________________________________________________________________________\n",
            "conv2d_30 (Conv2D)              (None, 21, 21, 96)   82944       activation_9[0][0]               \n",
            "__________________________________________________________________________________________________\n",
            "conv2d_31 (Conv2D)              (None, 21, 21, 32)   6144        average_pooling2d[0][0]          \n",
            "__________________________________________________________________________________________________\n",
            "batch_normalization_5 (BatchNor (None, 21, 21, 64)   192         conv2d_25[0][0]                  \n",
            "__________________________________________________________________________________________________\n",
            "batch_normalization_7 (BatchNor (None, 21, 21, 64)   192         conv2d_27[0][0]                  \n",
            "__________________________________________________________________________________________________\n",
            "batch_normalization_10 (BatchNo (None, 21, 21, 96)   288         conv2d_30[0][0]                  \n",
            "__________________________________________________________________________________________________\n",
            "batch_normalization_11 (BatchNo (None, 21, 21, 32)   96          conv2d_31[0][0]                  \n",
            "__________________________________________________________________________________________________\n",
            "activation_5 (Activation)       (None, 21, 21, 64)   0           batch_normalization_5[0][0]      \n",
            "__________________________________________________________________________________________________\n",
            "activation_7 (Activation)       (None, 21, 21, 64)   0           batch_normalization_7[0][0]      \n",
            "__________________________________________________________________________________________________\n",
            "activation_10 (Activation)      (None, 21, 21, 96)   0           batch_normalization_10[0][0]     \n",
            "__________________________________________________________________________________________________\n",
            "activation_11 (Activation)      (None, 21, 21, 32)   0           batch_normalization_11[0][0]     \n",
            "__________________________________________________________________________________________________\n",
            "mixed0 (Concatenate)            (None, 21, 21, 256)  0           activation_5[0][0]               \n",
            "                                                                 activation_7[0][0]               \n",
            "                                                                 activation_10[0][0]              \n",
            "                                                                 activation_11[0][0]              \n",
            "__________________________________________________________________________________________________\n",
            "conv2d_35 (Conv2D)              (None, 21, 21, 64)   16384       mixed0[0][0]                     \n",
            "__________________________________________________________________________________________________\n",
            "batch_normalization_15 (BatchNo (None, 21, 21, 64)   192         conv2d_35[0][0]                  \n",
            "__________________________________________________________________________________________________\n",
            "activation_15 (Activation)      (None, 21, 21, 64)   0           batch_normalization_15[0][0]     \n",
            "__________________________________________________________________________________________________\n",
            "conv2d_33 (Conv2D)              (None, 21, 21, 48)   12288       mixed0[0][0]                     \n",
            "__________________________________________________________________________________________________\n",
            "conv2d_36 (Conv2D)              (None, 21, 21, 96)   55296       activation_15[0][0]              \n",
            "__________________________________________________________________________________________________\n",
            "batch_normalization_13 (BatchNo (None, 21, 21, 48)   144         conv2d_33[0][0]                  \n",
            "__________________________________________________________________________________________________\n",
            "batch_normalization_16 (BatchNo (None, 21, 21, 96)   288         conv2d_36[0][0]                  \n",
            "__________________________________________________________________________________________________\n",
            "activation_13 (Activation)      (None, 21, 21, 48)   0           batch_normalization_13[0][0]     \n",
            "__________________________________________________________________________________________________\n",
            "activation_16 (Activation)      (None, 21, 21, 96)   0           batch_normalization_16[0][0]     \n",
            "__________________________________________________________________________________________________\n",
            "average_pooling2d_1 (AveragePoo (None, 21, 21, 256)  0           mixed0[0][0]                     \n",
            "__________________________________________________________________________________________________\n",
            "conv2d_32 (Conv2D)              (None, 21, 21, 64)   16384       mixed0[0][0]                     \n",
            "__________________________________________________________________________________________________\n",
            "conv2d_34 (Conv2D)              (None, 21, 21, 64)   76800       activation_13[0][0]              \n",
            "__________________________________________________________________________________________________\n",
            "conv2d_37 (Conv2D)              (None, 21, 21, 96)   82944       activation_16[0][0]              \n",
            "__________________________________________________________________________________________________\n",
            "conv2d_38 (Conv2D)              (None, 21, 21, 64)   16384       average_pooling2d_1[0][0]        \n",
            "__________________________________________________________________________________________________\n",
            "batch_normalization_12 (BatchNo (None, 21, 21, 64)   192         conv2d_32[0][0]                  \n",
            "__________________________________________________________________________________________________\n",
            "batch_normalization_14 (BatchNo (None, 21, 21, 64)   192         conv2d_34[0][0]                  \n",
            "__________________________________________________________________________________________________\n",
            "batch_normalization_17 (BatchNo (None, 21, 21, 96)   288         conv2d_37[0][0]                  \n",
            "__________________________________________________________________________________________________\n",
            "batch_normalization_18 (BatchNo (None, 21, 21, 64)   192         conv2d_38[0][0]                  \n",
            "__________________________________________________________________________________________________\n",
            "activation_12 (Activation)      (None, 21, 21, 64)   0           batch_normalization_12[0][0]     \n",
            "__________________________________________________________________________________________________\n",
            "activation_14 (Activation)      (None, 21, 21, 64)   0           batch_normalization_14[0][0]     \n",
            "__________________________________________________________________________________________________\n",
            "activation_17 (Activation)      (None, 21, 21, 96)   0           batch_normalization_17[0][0]     \n",
            "__________________________________________________________________________________________________\n",
            "activation_18 (Activation)      (None, 21, 21, 64)   0           batch_normalization_18[0][0]     \n",
            "__________________________________________________________________________________________________\n",
            "mixed1 (Concatenate)            (None, 21, 21, 288)  0           activation_12[0][0]              \n",
            "                                                                 activation_14[0][0]              \n",
            "                                                                 activation_17[0][0]              \n",
            "                                                                 activation_18[0][0]              \n",
            "__________________________________________________________________________________________________\n",
            "conv2d_42 (Conv2D)              (None, 21, 21, 64)   18432       mixed1[0][0]                     \n",
            "__________________________________________________________________________________________________\n",
            "batch_normalization_22 (BatchNo (None, 21, 21, 64)   192         conv2d_42[0][0]                  \n",
            "__________________________________________________________________________________________________\n",
            "activation_22 (Activation)      (None, 21, 21, 64)   0           batch_normalization_22[0][0]     \n",
            "__________________________________________________________________________________________________\n",
            "conv2d_40 (Conv2D)              (None, 21, 21, 48)   13824       mixed1[0][0]                     \n",
            "__________________________________________________________________________________________________\n",
            "conv2d_43 (Conv2D)              (None, 21, 21, 96)   55296       activation_22[0][0]              \n",
            "__________________________________________________________________________________________________\n",
            "batch_normalization_20 (BatchNo (None, 21, 21, 48)   144         conv2d_40[0][0]                  \n",
            "__________________________________________________________________________________________________\n",
            "batch_normalization_23 (BatchNo (None, 21, 21, 96)   288         conv2d_43[0][0]                  \n",
            "__________________________________________________________________________________________________\n",
            "activation_20 (Activation)      (None, 21, 21, 48)   0           batch_normalization_20[0][0]     \n",
            "__________________________________________________________________________________________________\n",
            "activation_23 (Activation)      (None, 21, 21, 96)   0           batch_normalization_23[0][0]     \n",
            "__________________________________________________________________________________________________\n",
            "average_pooling2d_2 (AveragePoo (None, 21, 21, 288)  0           mixed1[0][0]                     \n",
            "__________________________________________________________________________________________________\n",
            "conv2d_39 (Conv2D)              (None, 21, 21, 64)   18432       mixed1[0][0]                     \n",
            "__________________________________________________________________________________________________\n",
            "conv2d_41 (Conv2D)              (None, 21, 21, 64)   76800       activation_20[0][0]              \n",
            "__________________________________________________________________________________________________\n",
            "conv2d_44 (Conv2D)              (None, 21, 21, 96)   82944       activation_23[0][0]              \n",
            "__________________________________________________________________________________________________\n",
            "conv2d_45 (Conv2D)              (None, 21, 21, 64)   18432       average_pooling2d_2[0][0]        \n",
            "__________________________________________________________________________________________________\n",
            "batch_normalization_19 (BatchNo (None, 21, 21, 64)   192         conv2d_39[0][0]                  \n",
            "__________________________________________________________________________________________________\n",
            "batch_normalization_21 (BatchNo (None, 21, 21, 64)   192         conv2d_41[0][0]                  \n",
            "__________________________________________________________________________________________________\n",
            "batch_normalization_24 (BatchNo (None, 21, 21, 96)   288         conv2d_44[0][0]                  \n",
            "__________________________________________________________________________________________________\n",
            "batch_normalization_25 (BatchNo (None, 21, 21, 64)   192         conv2d_45[0][0]                  \n",
            "__________________________________________________________________________________________________\n",
            "activation_19 (Activation)      (None, 21, 21, 64)   0           batch_normalization_19[0][0]     \n",
            "__________________________________________________________________________________________________\n",
            "activation_21 (Activation)      (None, 21, 21, 64)   0           batch_normalization_21[0][0]     \n",
            "__________________________________________________________________________________________________\n",
            "activation_24 (Activation)      (None, 21, 21, 96)   0           batch_normalization_24[0][0]     \n",
            "__________________________________________________________________________________________________\n",
            "activation_25 (Activation)      (None, 21, 21, 64)   0           batch_normalization_25[0][0]     \n",
            "__________________________________________________________________________________________________\n",
            "mixed2 (Concatenate)            (None, 21, 21, 288)  0           activation_19[0][0]              \n",
            "                                                                 activation_21[0][0]              \n",
            "                                                                 activation_24[0][0]              \n",
            "                                                                 activation_25[0][0]              \n",
            "__________________________________________________________________________________________________\n",
            "conv2d_47 (Conv2D)              (None, 21, 21, 64)   18432       mixed2[0][0]                     \n",
            "__________________________________________________________________________________________________\n",
            "batch_normalization_27 (BatchNo (None, 21, 21, 64)   192         conv2d_47[0][0]                  \n",
            "__________________________________________________________________________________________________\n",
            "activation_27 (Activation)      (None, 21, 21, 64)   0           batch_normalization_27[0][0]     \n",
            "__________________________________________________________________________________________________\n",
            "conv2d_48 (Conv2D)              (None, 21, 21, 96)   55296       activation_27[0][0]              \n",
            "__________________________________________________________________________________________________\n",
            "batch_normalization_28 (BatchNo (None, 21, 21, 96)   288         conv2d_48[0][0]                  \n",
            "__________________________________________________________________________________________________\n",
            "activation_28 (Activation)      (None, 21, 21, 96)   0           batch_normalization_28[0][0]     \n",
            "__________________________________________________________________________________________________\n",
            "conv2d_46 (Conv2D)              (None, 10, 10, 384)  995328      mixed2[0][0]                     \n",
            "__________________________________________________________________________________________________\n",
            "conv2d_49 (Conv2D)              (None, 10, 10, 96)   82944       activation_28[0][0]              \n",
            "__________________________________________________________________________________________________\n",
            "batch_normalization_26 (BatchNo (None, 10, 10, 384)  1152        conv2d_46[0][0]                  \n",
            "__________________________________________________________________________________________________\n",
            "batch_normalization_29 (BatchNo (None, 10, 10, 96)   288         conv2d_49[0][0]                  \n",
            "__________________________________________________________________________________________________\n",
            "activation_26 (Activation)      (None, 10, 10, 384)  0           batch_normalization_26[0][0]     \n",
            "__________________________________________________________________________________________________\n",
            "activation_29 (Activation)      (None, 10, 10, 96)   0           batch_normalization_29[0][0]     \n",
            "__________________________________________________________________________________________________\n",
            "max_pooling2d_8 (MaxPooling2D)  (None, 10, 10, 288)  0           mixed2[0][0]                     \n",
            "__________________________________________________________________________________________________\n",
            "mixed3 (Concatenate)            (None, 10, 10, 768)  0           activation_26[0][0]              \n",
            "                                                                 activation_29[0][0]              \n",
            "                                                                 max_pooling2d_8[0][0]            \n",
            "__________________________________________________________________________________________________\n",
            "conv2d_54 (Conv2D)              (None, 10, 10, 128)  98304       mixed3[0][0]                     \n",
            "__________________________________________________________________________________________________\n",
            "batch_normalization_34 (BatchNo (None, 10, 10, 128)  384         conv2d_54[0][0]                  \n",
            "__________________________________________________________________________________________________\n",
            "activation_34 (Activation)      (None, 10, 10, 128)  0           batch_normalization_34[0][0]     \n",
            "__________________________________________________________________________________________________\n",
            "conv2d_55 (Conv2D)              (None, 10, 10, 128)  114688      activation_34[0][0]              \n",
            "__________________________________________________________________________________________________\n",
            "batch_normalization_35 (BatchNo (None, 10, 10, 128)  384         conv2d_55[0][0]                  \n",
            "__________________________________________________________________________________________________\n",
            "activation_35 (Activation)      (None, 10, 10, 128)  0           batch_normalization_35[0][0]     \n",
            "__________________________________________________________________________________________________\n",
            "conv2d_51 (Conv2D)              (None, 10, 10, 128)  98304       mixed3[0][0]                     \n",
            "__________________________________________________________________________________________________\n",
            "conv2d_56 (Conv2D)              (None, 10, 10, 128)  114688      activation_35[0][0]              \n",
            "__________________________________________________________________________________________________\n",
            "batch_normalization_31 (BatchNo (None, 10, 10, 128)  384         conv2d_51[0][0]                  \n",
            "__________________________________________________________________________________________________\n",
            "batch_normalization_36 (BatchNo (None, 10, 10, 128)  384         conv2d_56[0][0]                  \n",
            "__________________________________________________________________________________________________\n",
            "activation_31 (Activation)      (None, 10, 10, 128)  0           batch_normalization_31[0][0]     \n",
            "__________________________________________________________________________________________________\n",
            "activation_36 (Activation)      (None, 10, 10, 128)  0           batch_normalization_36[0][0]     \n",
            "__________________________________________________________________________________________________\n",
            "conv2d_52 (Conv2D)              (None, 10, 10, 128)  114688      activation_31[0][0]              \n",
            "__________________________________________________________________________________________________\n",
            "conv2d_57 (Conv2D)              (None, 10, 10, 128)  114688      activation_36[0][0]              \n",
            "__________________________________________________________________________________________________\n",
            "batch_normalization_32 (BatchNo (None, 10, 10, 128)  384         conv2d_52[0][0]                  \n",
            "__________________________________________________________________________________________________\n",
            "batch_normalization_37 (BatchNo (None, 10, 10, 128)  384         conv2d_57[0][0]                  \n",
            "__________________________________________________________________________________________________\n",
            "activation_32 (Activation)      (None, 10, 10, 128)  0           batch_normalization_32[0][0]     \n",
            "__________________________________________________________________________________________________\n",
            "activation_37 (Activation)      (None, 10, 10, 128)  0           batch_normalization_37[0][0]     \n",
            "__________________________________________________________________________________________________\n",
            "average_pooling2d_3 (AveragePoo (None, 10, 10, 768)  0           mixed3[0][0]                     \n",
            "__________________________________________________________________________________________________\n",
            "conv2d_50 (Conv2D)              (None, 10, 10, 192)  147456      mixed3[0][0]                     \n",
            "__________________________________________________________________________________________________\n",
            "conv2d_53 (Conv2D)              (None, 10, 10, 192)  172032      activation_32[0][0]              \n",
            "__________________________________________________________________________________________________\n",
            "conv2d_58 (Conv2D)              (None, 10, 10, 192)  172032      activation_37[0][0]              \n",
            "__________________________________________________________________________________________________\n",
            "conv2d_59 (Conv2D)              (None, 10, 10, 192)  147456      average_pooling2d_3[0][0]        \n",
            "__________________________________________________________________________________________________\n",
            "batch_normalization_30 (BatchNo (None, 10, 10, 192)  576         conv2d_50[0][0]                  \n",
            "__________________________________________________________________________________________________\n",
            "batch_normalization_33 (BatchNo (None, 10, 10, 192)  576         conv2d_53[0][0]                  \n",
            "__________________________________________________________________________________________________\n",
            "batch_normalization_38 (BatchNo (None, 10, 10, 192)  576         conv2d_58[0][0]                  \n",
            "__________________________________________________________________________________________________\n",
            "batch_normalization_39 (BatchNo (None, 10, 10, 192)  576         conv2d_59[0][0]                  \n",
            "__________________________________________________________________________________________________\n",
            "activation_30 (Activation)      (None, 10, 10, 192)  0           batch_normalization_30[0][0]     \n",
            "__________________________________________________________________________________________________\n",
            "activation_33 (Activation)      (None, 10, 10, 192)  0           batch_normalization_33[0][0]     \n",
            "__________________________________________________________________________________________________\n",
            "activation_38 (Activation)      (None, 10, 10, 192)  0           batch_normalization_38[0][0]     \n",
            "__________________________________________________________________________________________________\n",
            "activation_39 (Activation)      (None, 10, 10, 192)  0           batch_normalization_39[0][0]     \n",
            "__________________________________________________________________________________________________\n",
            "mixed4 (Concatenate)            (None, 10, 10, 768)  0           activation_30[0][0]              \n",
            "                                                                 activation_33[0][0]              \n",
            "                                                                 activation_38[0][0]              \n",
            "                                                                 activation_39[0][0]              \n",
            "__________________________________________________________________________________________________\n",
            "conv2d_64 (Conv2D)              (None, 10, 10, 160)  122880      mixed4[0][0]                     \n",
            "__________________________________________________________________________________________________\n",
            "batch_normalization_44 (BatchNo (None, 10, 10, 160)  480         conv2d_64[0][0]                  \n",
            "__________________________________________________________________________________________________\n",
            "activation_44 (Activation)      (None, 10, 10, 160)  0           batch_normalization_44[0][0]     \n",
            "__________________________________________________________________________________________________\n",
            "conv2d_65 (Conv2D)              (None, 10, 10, 160)  179200      activation_44[0][0]              \n",
            "__________________________________________________________________________________________________\n",
            "batch_normalization_45 (BatchNo (None, 10, 10, 160)  480         conv2d_65[0][0]                  \n",
            "__________________________________________________________________________________________________\n",
            "activation_45 (Activation)      (None, 10, 10, 160)  0           batch_normalization_45[0][0]     \n",
            "__________________________________________________________________________________________________\n",
            "conv2d_61 (Conv2D)              (None, 10, 10, 160)  122880      mixed4[0][0]                     \n",
            "__________________________________________________________________________________________________\n",
            "conv2d_66 (Conv2D)              (None, 10, 10, 160)  179200      activation_45[0][0]              \n",
            "__________________________________________________________________________________________________\n",
            "batch_normalization_41 (BatchNo (None, 10, 10, 160)  480         conv2d_61[0][0]                  \n",
            "__________________________________________________________________________________________________\n",
            "batch_normalization_46 (BatchNo (None, 10, 10, 160)  480         conv2d_66[0][0]                  \n",
            "__________________________________________________________________________________________________\n",
            "activation_41 (Activation)      (None, 10, 10, 160)  0           batch_normalization_41[0][0]     \n",
            "__________________________________________________________________________________________________\n",
            "activation_46 (Activation)      (None, 10, 10, 160)  0           batch_normalization_46[0][0]     \n",
            "__________________________________________________________________________________________________\n",
            "conv2d_62 (Conv2D)              (None, 10, 10, 160)  179200      activation_41[0][0]              \n",
            "__________________________________________________________________________________________________\n",
            "conv2d_67 (Conv2D)              (None, 10, 10, 160)  179200      activation_46[0][0]              \n",
            "__________________________________________________________________________________________________\n",
            "batch_normalization_42 (BatchNo (None, 10, 10, 160)  480         conv2d_62[0][0]                  \n",
            "__________________________________________________________________________________________________\n",
            "batch_normalization_47 (BatchNo (None, 10, 10, 160)  480         conv2d_67[0][0]                  \n",
            "__________________________________________________________________________________________________\n",
            "activation_42 (Activation)      (None, 10, 10, 160)  0           batch_normalization_42[0][0]     \n",
            "__________________________________________________________________________________________________\n",
            "activation_47 (Activation)      (None, 10, 10, 160)  0           batch_normalization_47[0][0]     \n",
            "__________________________________________________________________________________________________\n",
            "average_pooling2d_4 (AveragePoo (None, 10, 10, 768)  0           mixed4[0][0]                     \n",
            "__________________________________________________________________________________________________\n",
            "conv2d_60 (Conv2D)              (None, 10, 10, 192)  147456      mixed4[0][0]                     \n",
            "__________________________________________________________________________________________________\n",
            "conv2d_63 (Conv2D)              (None, 10, 10, 192)  215040      activation_42[0][0]              \n",
            "__________________________________________________________________________________________________\n",
            "conv2d_68 (Conv2D)              (None, 10, 10, 192)  215040      activation_47[0][0]              \n",
            "__________________________________________________________________________________________________\n",
            "conv2d_69 (Conv2D)              (None, 10, 10, 192)  147456      average_pooling2d_4[0][0]        \n",
            "__________________________________________________________________________________________________\n",
            "batch_normalization_40 (BatchNo (None, 10, 10, 192)  576         conv2d_60[0][0]                  \n",
            "__________________________________________________________________________________________________\n",
            "batch_normalization_43 (BatchNo (None, 10, 10, 192)  576         conv2d_63[0][0]                  \n",
            "__________________________________________________________________________________________________\n",
            "batch_normalization_48 (BatchNo (None, 10, 10, 192)  576         conv2d_68[0][0]                  \n",
            "__________________________________________________________________________________________________\n",
            "batch_normalization_49 (BatchNo (None, 10, 10, 192)  576         conv2d_69[0][0]                  \n",
            "__________________________________________________________________________________________________\n",
            "activation_40 (Activation)      (None, 10, 10, 192)  0           batch_normalization_40[0][0]     \n",
            "__________________________________________________________________________________________________\n",
            "activation_43 (Activation)      (None, 10, 10, 192)  0           batch_normalization_43[0][0]     \n",
            "__________________________________________________________________________________________________\n",
            "activation_48 (Activation)      (None, 10, 10, 192)  0           batch_normalization_48[0][0]     \n",
            "__________________________________________________________________________________________________\n",
            "activation_49 (Activation)      (None, 10, 10, 192)  0           batch_normalization_49[0][0]     \n",
            "__________________________________________________________________________________________________\n",
            "mixed5 (Concatenate)            (None, 10, 10, 768)  0           activation_40[0][0]              \n",
            "                                                                 activation_43[0][0]              \n",
            "                                                                 activation_48[0][0]              \n",
            "                                                                 activation_49[0][0]              \n",
            "__________________________________________________________________________________________________\n",
            "conv2d_74 (Conv2D)              (None, 10, 10, 160)  122880      mixed5[0][0]                     \n",
            "__________________________________________________________________________________________________\n",
            "batch_normalization_54 (BatchNo (None, 10, 10, 160)  480         conv2d_74[0][0]                  \n",
            "__________________________________________________________________________________________________\n",
            "activation_54 (Activation)      (None, 10, 10, 160)  0           batch_normalization_54[0][0]     \n",
            "__________________________________________________________________________________________________\n",
            "conv2d_75 (Conv2D)              (None, 10, 10, 160)  179200      activation_54[0][0]              \n",
            "__________________________________________________________________________________________________\n",
            "batch_normalization_55 (BatchNo (None, 10, 10, 160)  480         conv2d_75[0][0]                  \n",
            "__________________________________________________________________________________________________\n",
            "activation_55 (Activation)      (None, 10, 10, 160)  0           batch_normalization_55[0][0]     \n",
            "__________________________________________________________________________________________________\n",
            "conv2d_71 (Conv2D)              (None, 10, 10, 160)  122880      mixed5[0][0]                     \n",
            "__________________________________________________________________________________________________\n",
            "conv2d_76 (Conv2D)              (None, 10, 10, 160)  179200      activation_55[0][0]              \n",
            "__________________________________________________________________________________________________\n",
            "batch_normalization_51 (BatchNo (None, 10, 10, 160)  480         conv2d_71[0][0]                  \n",
            "__________________________________________________________________________________________________\n",
            "batch_normalization_56 (BatchNo (None, 10, 10, 160)  480         conv2d_76[0][0]                  \n",
            "__________________________________________________________________________________________________\n",
            "activation_51 (Activation)      (None, 10, 10, 160)  0           batch_normalization_51[0][0]     \n",
            "__________________________________________________________________________________________________\n",
            "activation_56 (Activation)      (None, 10, 10, 160)  0           batch_normalization_56[0][0]     \n",
            "__________________________________________________________________________________________________\n",
            "conv2d_72 (Conv2D)              (None, 10, 10, 160)  179200      activation_51[0][0]              \n",
            "__________________________________________________________________________________________________\n",
            "conv2d_77 (Conv2D)              (None, 10, 10, 160)  179200      activation_56[0][0]              \n",
            "__________________________________________________________________________________________________\n",
            "batch_normalization_52 (BatchNo (None, 10, 10, 160)  480         conv2d_72[0][0]                  \n",
            "__________________________________________________________________________________________________\n",
            "batch_normalization_57 (BatchNo (None, 10, 10, 160)  480         conv2d_77[0][0]                  \n",
            "__________________________________________________________________________________________________\n",
            "activation_52 (Activation)      (None, 10, 10, 160)  0           batch_normalization_52[0][0]     \n",
            "__________________________________________________________________________________________________\n",
            "activation_57 (Activation)      (None, 10, 10, 160)  0           batch_normalization_57[0][0]     \n",
            "__________________________________________________________________________________________________\n",
            "average_pooling2d_5 (AveragePoo (None, 10, 10, 768)  0           mixed5[0][0]                     \n",
            "__________________________________________________________________________________________________\n",
            "conv2d_70 (Conv2D)              (None, 10, 10, 192)  147456      mixed5[0][0]                     \n",
            "__________________________________________________________________________________________________\n",
            "conv2d_73 (Conv2D)              (None, 10, 10, 192)  215040      activation_52[0][0]              \n",
            "__________________________________________________________________________________________________\n",
            "conv2d_78 (Conv2D)              (None, 10, 10, 192)  215040      activation_57[0][0]              \n",
            "__________________________________________________________________________________________________\n",
            "conv2d_79 (Conv2D)              (None, 10, 10, 192)  147456      average_pooling2d_5[0][0]        \n",
            "__________________________________________________________________________________________________\n",
            "batch_normalization_50 (BatchNo (None, 10, 10, 192)  576         conv2d_70[0][0]                  \n",
            "__________________________________________________________________________________________________\n",
            "batch_normalization_53 (BatchNo (None, 10, 10, 192)  576         conv2d_73[0][0]                  \n",
            "__________________________________________________________________________________________________\n",
            "batch_normalization_58 (BatchNo (None, 10, 10, 192)  576         conv2d_78[0][0]                  \n",
            "__________________________________________________________________________________________________\n",
            "batch_normalization_59 (BatchNo (None, 10, 10, 192)  576         conv2d_79[0][0]                  \n",
            "__________________________________________________________________________________________________\n",
            "activation_50 (Activation)      (None, 10, 10, 192)  0           batch_normalization_50[0][0]     \n",
            "__________________________________________________________________________________________________\n",
            "activation_53 (Activation)      (None, 10, 10, 192)  0           batch_normalization_53[0][0]     \n",
            "__________________________________________________________________________________________________\n",
            "activation_58 (Activation)      (None, 10, 10, 192)  0           batch_normalization_58[0][0]     \n",
            "__________________________________________________________________________________________________\n",
            "activation_59 (Activation)      (None, 10, 10, 192)  0           batch_normalization_59[0][0]     \n",
            "__________________________________________________________________________________________________\n",
            "mixed6 (Concatenate)            (None, 10, 10, 768)  0           activation_50[0][0]              \n",
            "                                                                 activation_53[0][0]              \n",
            "                                                                 activation_58[0][0]              \n",
            "                                                                 activation_59[0][0]              \n",
            "__________________________________________________________________________________________________\n",
            "conv2d_84 (Conv2D)              (None, 10, 10, 192)  147456      mixed6[0][0]                     \n",
            "__________________________________________________________________________________________________\n",
            "batch_normalization_64 (BatchNo (None, 10, 10, 192)  576         conv2d_84[0][0]                  \n",
            "__________________________________________________________________________________________________\n",
            "activation_64 (Activation)      (None, 10, 10, 192)  0           batch_normalization_64[0][0]     \n",
            "__________________________________________________________________________________________________\n",
            "conv2d_85 (Conv2D)              (None, 10, 10, 192)  258048      activation_64[0][0]              \n",
            "__________________________________________________________________________________________________\n",
            "batch_normalization_65 (BatchNo (None, 10, 10, 192)  576         conv2d_85[0][0]                  \n",
            "__________________________________________________________________________________________________\n",
            "activation_65 (Activation)      (None, 10, 10, 192)  0           batch_normalization_65[0][0]     \n",
            "__________________________________________________________________________________________________\n",
            "conv2d_81 (Conv2D)              (None, 10, 10, 192)  147456      mixed6[0][0]                     \n",
            "__________________________________________________________________________________________________\n",
            "conv2d_86 (Conv2D)              (None, 10, 10, 192)  258048      activation_65[0][0]              \n",
            "__________________________________________________________________________________________________\n",
            "batch_normalization_61 (BatchNo (None, 10, 10, 192)  576         conv2d_81[0][0]                  \n",
            "__________________________________________________________________________________________________\n",
            "batch_normalization_66 (BatchNo (None, 10, 10, 192)  576         conv2d_86[0][0]                  \n",
            "__________________________________________________________________________________________________\n",
            "activation_61 (Activation)      (None, 10, 10, 192)  0           batch_normalization_61[0][0]     \n",
            "__________________________________________________________________________________________________\n",
            "activation_66 (Activation)      (None, 10, 10, 192)  0           batch_normalization_66[0][0]     \n",
            "__________________________________________________________________________________________________\n",
            "conv2d_82 (Conv2D)              (None, 10, 10, 192)  258048      activation_61[0][0]              \n",
            "__________________________________________________________________________________________________\n",
            "conv2d_87 (Conv2D)              (None, 10, 10, 192)  258048      activation_66[0][0]              \n",
            "__________________________________________________________________________________________________\n",
            "batch_normalization_62 (BatchNo (None, 10, 10, 192)  576         conv2d_82[0][0]                  \n",
            "__________________________________________________________________________________________________\n",
            "batch_normalization_67 (BatchNo (None, 10, 10, 192)  576         conv2d_87[0][0]                  \n",
            "__________________________________________________________________________________________________\n",
            "activation_62 (Activation)      (None, 10, 10, 192)  0           batch_normalization_62[0][0]     \n",
            "__________________________________________________________________________________________________\n",
            "activation_67 (Activation)      (None, 10, 10, 192)  0           batch_normalization_67[0][0]     \n",
            "__________________________________________________________________________________________________\n",
            "average_pooling2d_6 (AveragePoo (None, 10, 10, 768)  0           mixed6[0][0]                     \n",
            "__________________________________________________________________________________________________\n",
            "conv2d_80 (Conv2D)              (None, 10, 10, 192)  147456      mixed6[0][0]                     \n",
            "__________________________________________________________________________________________________\n",
            "conv2d_83 (Conv2D)              (None, 10, 10, 192)  258048      activation_62[0][0]              \n",
            "__________________________________________________________________________________________________\n",
            "conv2d_88 (Conv2D)              (None, 10, 10, 192)  258048      activation_67[0][0]              \n",
            "__________________________________________________________________________________________________\n",
            "conv2d_89 (Conv2D)              (None, 10, 10, 192)  147456      average_pooling2d_6[0][0]        \n",
            "__________________________________________________________________________________________________\n",
            "batch_normalization_60 (BatchNo (None, 10, 10, 192)  576         conv2d_80[0][0]                  \n",
            "__________________________________________________________________________________________________\n",
            "batch_normalization_63 (BatchNo (None, 10, 10, 192)  576         conv2d_83[0][0]                  \n",
            "__________________________________________________________________________________________________\n",
            "batch_normalization_68 (BatchNo (None, 10, 10, 192)  576         conv2d_88[0][0]                  \n",
            "__________________________________________________________________________________________________\n",
            "batch_normalization_69 (BatchNo (None, 10, 10, 192)  576         conv2d_89[0][0]                  \n",
            "__________________________________________________________________________________________________\n",
            "activation_60 (Activation)      (None, 10, 10, 192)  0           batch_normalization_60[0][0]     \n",
            "__________________________________________________________________________________________________\n",
            "activation_63 (Activation)      (None, 10, 10, 192)  0           batch_normalization_63[0][0]     \n",
            "__________________________________________________________________________________________________\n",
            "activation_68 (Activation)      (None, 10, 10, 192)  0           batch_normalization_68[0][0]     \n",
            "__________________________________________________________________________________________________\n",
            "activation_69 (Activation)      (None, 10, 10, 192)  0           batch_normalization_69[0][0]     \n",
            "__________________________________________________________________________________________________\n",
            "mixed7 (Concatenate)            (None, 10, 10, 768)  0           activation_60[0][0]              \n",
            "                                                                 activation_63[0][0]              \n",
            "                                                                 activation_68[0][0]              \n",
            "                                                                 activation_69[0][0]              \n",
            "__________________________________________________________________________________________________\n",
            "conv2d_92 (Conv2D)              (None, 10, 10, 192)  147456      mixed7[0][0]                     \n",
            "__________________________________________________________________________________________________\n",
            "batch_normalization_72 (BatchNo (None, 10, 10, 192)  576         conv2d_92[0][0]                  \n",
            "__________________________________________________________________________________________________\n",
            "activation_72 (Activation)      (None, 10, 10, 192)  0           batch_normalization_72[0][0]     \n",
            "__________________________________________________________________________________________________\n",
            "conv2d_93 (Conv2D)              (None, 10, 10, 192)  258048      activation_72[0][0]              \n",
            "__________________________________________________________________________________________________\n",
            "batch_normalization_73 (BatchNo (None, 10, 10, 192)  576         conv2d_93[0][0]                  \n",
            "__________________________________________________________________________________________________\n",
            "activation_73 (Activation)      (None, 10, 10, 192)  0           batch_normalization_73[0][0]     \n",
            "__________________________________________________________________________________________________\n",
            "conv2d_90 (Conv2D)              (None, 10, 10, 192)  147456      mixed7[0][0]                     \n",
            "__________________________________________________________________________________________________\n",
            "conv2d_94 (Conv2D)              (None, 10, 10, 192)  258048      activation_73[0][0]              \n",
            "__________________________________________________________________________________________________\n",
            "batch_normalization_70 (BatchNo (None, 10, 10, 192)  576         conv2d_90[0][0]                  \n",
            "__________________________________________________________________________________________________\n",
            "batch_normalization_74 (BatchNo (None, 10, 10, 192)  576         conv2d_94[0][0]                  \n",
            "__________________________________________________________________________________________________\n",
            "activation_70 (Activation)      (None, 10, 10, 192)  0           batch_normalization_70[0][0]     \n",
            "__________________________________________________________________________________________________\n",
            "activation_74 (Activation)      (None, 10, 10, 192)  0           batch_normalization_74[0][0]     \n",
            "__________________________________________________________________________________________________\n",
            "conv2d_91 (Conv2D)              (None, 4, 4, 320)    552960      activation_70[0][0]              \n",
            "__________________________________________________________________________________________________\n",
            "conv2d_95 (Conv2D)              (None, 4, 4, 192)    331776      activation_74[0][0]              \n",
            "__________________________________________________________________________________________________\n",
            "batch_normalization_71 (BatchNo (None, 4, 4, 320)    960         conv2d_91[0][0]                  \n",
            "__________________________________________________________________________________________________\n",
            "batch_normalization_75 (BatchNo (None, 4, 4, 192)    576         conv2d_95[0][0]                  \n",
            "__________________________________________________________________________________________________\n",
            "activation_71 (Activation)      (None, 4, 4, 320)    0           batch_normalization_71[0][0]     \n",
            "__________________________________________________________________________________________________\n",
            "activation_75 (Activation)      (None, 4, 4, 192)    0           batch_normalization_75[0][0]     \n",
            "__________________________________________________________________________________________________\n",
            "max_pooling2d_9 (MaxPooling2D)  (None, 4, 4, 768)    0           mixed7[0][0]                     \n",
            "__________________________________________________________________________________________________\n",
            "mixed8 (Concatenate)            (None, 4, 4, 1280)   0           activation_71[0][0]              \n",
            "                                                                 activation_75[0][0]              \n",
            "                                                                 max_pooling2d_9[0][0]            \n",
            "__________________________________________________________________________________________________\n",
            "conv2d_100 (Conv2D)             (None, 4, 4, 448)    573440      mixed8[0][0]                     \n",
            "__________________________________________________________________________________________________\n",
            "batch_normalization_80 (BatchNo (None, 4, 4, 448)    1344        conv2d_100[0][0]                 \n",
            "__________________________________________________________________________________________________\n",
            "activation_80 (Activation)      (None, 4, 4, 448)    0           batch_normalization_80[0][0]     \n",
            "__________________________________________________________________________________________________\n",
            "conv2d_97 (Conv2D)              (None, 4, 4, 384)    491520      mixed8[0][0]                     \n",
            "__________________________________________________________________________________________________\n",
            "conv2d_101 (Conv2D)             (None, 4, 4, 384)    1548288     activation_80[0][0]              \n",
            "__________________________________________________________________________________________________\n",
            "batch_normalization_77 (BatchNo (None, 4, 4, 384)    1152        conv2d_97[0][0]                  \n",
            "__________________________________________________________________________________________________\n",
            "batch_normalization_81 (BatchNo (None, 4, 4, 384)    1152        conv2d_101[0][0]                 \n",
            "__________________________________________________________________________________________________\n",
            "activation_77 (Activation)      (None, 4, 4, 384)    0           batch_normalization_77[0][0]     \n",
            "__________________________________________________________________________________________________\n",
            "activation_81 (Activation)      (None, 4, 4, 384)    0           batch_normalization_81[0][0]     \n",
            "__________________________________________________________________________________________________\n",
            "conv2d_98 (Conv2D)              (None, 4, 4, 384)    442368      activation_77[0][0]              \n",
            "__________________________________________________________________________________________________\n",
            "conv2d_99 (Conv2D)              (None, 4, 4, 384)    442368      activation_77[0][0]              \n",
            "__________________________________________________________________________________________________\n",
            "conv2d_102 (Conv2D)             (None, 4, 4, 384)    442368      activation_81[0][0]              \n",
            "__________________________________________________________________________________________________\n",
            "conv2d_103 (Conv2D)             (None, 4, 4, 384)    442368      activation_81[0][0]              \n",
            "__________________________________________________________________________________________________\n",
            "average_pooling2d_7 (AveragePoo (None, 4, 4, 1280)   0           mixed8[0][0]                     \n",
            "__________________________________________________________________________________________________\n",
            "conv2d_96 (Conv2D)              (None, 4, 4, 320)    409600      mixed8[0][0]                     \n",
            "__________________________________________________________________________________________________\n",
            "batch_normalization_78 (BatchNo (None, 4, 4, 384)    1152        conv2d_98[0][0]                  \n",
            "__________________________________________________________________________________________________\n",
            "batch_normalization_79 (BatchNo (None, 4, 4, 384)    1152        conv2d_99[0][0]                  \n",
            "__________________________________________________________________________________________________\n",
            "batch_normalization_82 (BatchNo (None, 4, 4, 384)    1152        conv2d_102[0][0]                 \n",
            "__________________________________________________________________________________________________\n",
            "batch_normalization_83 (BatchNo (None, 4, 4, 384)    1152        conv2d_103[0][0]                 \n",
            "__________________________________________________________________________________________________\n",
            "conv2d_104 (Conv2D)             (None, 4, 4, 192)    245760      average_pooling2d_7[0][0]        \n",
            "__________________________________________________________________________________________________\n",
            "batch_normalization_76 (BatchNo (None, 4, 4, 320)    960         conv2d_96[0][0]                  \n",
            "__________________________________________________________________________________________________\n",
            "activation_78 (Activation)      (None, 4, 4, 384)    0           batch_normalization_78[0][0]     \n",
            "__________________________________________________________________________________________________\n",
            "activation_79 (Activation)      (None, 4, 4, 384)    0           batch_normalization_79[0][0]     \n",
            "__________________________________________________________________________________________________\n",
            "activation_82 (Activation)      (None, 4, 4, 384)    0           batch_normalization_82[0][0]     \n",
            "__________________________________________________________________________________________________\n",
            "activation_83 (Activation)      (None, 4, 4, 384)    0           batch_normalization_83[0][0]     \n",
            "__________________________________________________________________________________________________\n",
            "batch_normalization_84 (BatchNo (None, 4, 4, 192)    576         conv2d_104[0][0]                 \n",
            "__________________________________________________________________________________________________\n",
            "activation_76 (Activation)      (None, 4, 4, 320)    0           batch_normalization_76[0][0]     \n",
            "__________________________________________________________________________________________________\n",
            "mixed9_0 (Concatenate)          (None, 4, 4, 768)    0           activation_78[0][0]              \n",
            "                                                                 activation_79[0][0]              \n",
            "__________________________________________________________________________________________________\n",
            "concatenate_3 (Concatenate)     (None, 4, 4, 768)    0           activation_82[0][0]              \n",
            "                                                                 activation_83[0][0]              \n",
            "__________________________________________________________________________________________________\n",
            "activation_84 (Activation)      (None, 4, 4, 192)    0           batch_normalization_84[0][0]     \n",
            "__________________________________________________________________________________________________\n",
            "mixed9 (Concatenate)            (None, 4, 4, 2048)   0           activation_76[0][0]              \n",
            "                                                                 mixed9_0[0][0]                   \n",
            "                                                                 concatenate_3[0][0]              \n",
            "                                                                 activation_84[0][0]              \n",
            "__________________________________________________________________________________________________\n",
            "conv2d_109 (Conv2D)             (None, 4, 4, 448)    917504      mixed9[0][0]                     \n",
            "__________________________________________________________________________________________________\n",
            "batch_normalization_89 (BatchNo (None, 4, 4, 448)    1344        conv2d_109[0][0]                 \n",
            "__________________________________________________________________________________________________\n",
            "activation_89 (Activation)      (None, 4, 4, 448)    0           batch_normalization_89[0][0]     \n",
            "__________________________________________________________________________________________________\n",
            "conv2d_106 (Conv2D)             (None, 4, 4, 384)    786432      mixed9[0][0]                     \n",
            "__________________________________________________________________________________________________\n",
            "conv2d_110 (Conv2D)             (None, 4, 4, 384)    1548288     activation_89[0][0]              \n",
            "__________________________________________________________________________________________________\n",
            "batch_normalization_86 (BatchNo (None, 4, 4, 384)    1152        conv2d_106[0][0]                 \n",
            "__________________________________________________________________________________________________\n",
            "batch_normalization_90 (BatchNo (None, 4, 4, 384)    1152        conv2d_110[0][0]                 \n",
            "__________________________________________________________________________________________________\n",
            "activation_86 (Activation)      (None, 4, 4, 384)    0           batch_normalization_86[0][0]     \n",
            "__________________________________________________________________________________________________\n",
            "activation_90 (Activation)      (None, 4, 4, 384)    0           batch_normalization_90[0][0]     \n",
            "__________________________________________________________________________________________________\n",
            "conv2d_107 (Conv2D)             (None, 4, 4, 384)    442368      activation_86[0][0]              \n",
            "__________________________________________________________________________________________________\n",
            "conv2d_108 (Conv2D)             (None, 4, 4, 384)    442368      activation_86[0][0]              \n",
            "__________________________________________________________________________________________________\n",
            "conv2d_111 (Conv2D)             (None, 4, 4, 384)    442368      activation_90[0][0]              \n",
            "__________________________________________________________________________________________________\n",
            "conv2d_112 (Conv2D)             (None, 4, 4, 384)    442368      activation_90[0][0]              \n",
            "__________________________________________________________________________________________________\n",
            "average_pooling2d_8 (AveragePoo (None, 4, 4, 2048)   0           mixed9[0][0]                     \n",
            "__________________________________________________________________________________________________\n",
            "conv2d_105 (Conv2D)             (None, 4, 4, 320)    655360      mixed9[0][0]                     \n",
            "__________________________________________________________________________________________________\n",
            "batch_normalization_87 (BatchNo (None, 4, 4, 384)    1152        conv2d_107[0][0]                 \n",
            "__________________________________________________________________________________________________\n",
            "batch_normalization_88 (BatchNo (None, 4, 4, 384)    1152        conv2d_108[0][0]                 \n",
            "__________________________________________________________________________________________________\n",
            "batch_normalization_91 (BatchNo (None, 4, 4, 384)    1152        conv2d_111[0][0]                 \n",
            "__________________________________________________________________________________________________\n",
            "batch_normalization_92 (BatchNo (None, 4, 4, 384)    1152        conv2d_112[0][0]                 \n",
            "__________________________________________________________________________________________________\n",
            "conv2d_113 (Conv2D)             (None, 4, 4, 192)    393216      average_pooling2d_8[0][0]        \n",
            "__________________________________________________________________________________________________\n",
            "batch_normalization_85 (BatchNo (None, 4, 4, 320)    960         conv2d_105[0][0]                 \n",
            "__________________________________________________________________________________________________\n",
            "activation_87 (Activation)      (None, 4, 4, 384)    0           batch_normalization_87[0][0]     \n",
            "__________________________________________________________________________________________________\n",
            "activation_88 (Activation)      (None, 4, 4, 384)    0           batch_normalization_88[0][0]     \n",
            "__________________________________________________________________________________________________\n",
            "activation_91 (Activation)      (None, 4, 4, 384)    0           batch_normalization_91[0][0]     \n",
            "__________________________________________________________________________________________________\n",
            "activation_92 (Activation)      (None, 4, 4, 384)    0           batch_normalization_92[0][0]     \n",
            "__________________________________________________________________________________________________\n",
            "batch_normalization_93 (BatchNo (None, 4, 4, 192)    576         conv2d_113[0][0]                 \n",
            "__________________________________________________________________________________________________\n",
            "activation_85 (Activation)      (None, 4, 4, 320)    0           batch_normalization_85[0][0]     \n",
            "__________________________________________________________________________________________________\n",
            "mixed9_1 (Concatenate)          (None, 4, 4, 768)    0           activation_87[0][0]              \n",
            "                                                                 activation_88[0][0]              \n",
            "__________________________________________________________________________________________________\n",
            "concatenate_4 (Concatenate)     (None, 4, 4, 768)    0           activation_91[0][0]              \n",
            "                                                                 activation_92[0][0]              \n",
            "__________________________________________________________________________________________________\n",
            "activation_93 (Activation)      (None, 4, 4, 192)    0           batch_normalization_93[0][0]     \n",
            "__________________________________________________________________________________________________\n",
            "mixed10 (Concatenate)           (None, 4, 4, 2048)   0           activation_85[0][0]              \n",
            "                                                                 mixed9_1[0][0]                   \n",
            "                                                                 concatenate_4[0][0]              \n",
            "                                                                 activation_93[0][0]              \n",
            "==================================================================================================\n",
            "Total params: 21,802,784\n",
            "Trainable params: 21,768,352\n",
            "Non-trainable params: 34,432\n",
            "__________________________________________________________________________________________________\n",
            "Train on 3108 samples\n",
            "Epoch 1/25\n",
            "3106/3108 [============================>.] - ETA: 0s - loss: 0.6874 - acc: 0.7257 - auc_2: 0.8976WARNING:tensorflow:Can save best model only with AUC available, skipping.\n",
            "WARNING:tensorflow:Reduce LR on plateau conditioned on metric `AUC` which is not available. Available metrics are: loss,acc,auc_2,lr\n",
            "3108/3108 [==============================] - 130s 42ms/sample - loss: 0.6872 - acc: 0.7259 - auc_2: 0.8976\n",
            "Epoch 2/25\n",
            "3107/3108 [============================>.] - ETA: 0s - loss: 0.3001 - acc: 0.8919 - auc_2: 0.9768WARNING:tensorflow:Can save best model only with AUC available, skipping.\n",
            "WARNING:tensorflow:Reduce LR on plateau conditioned on metric `AUC` which is not available. Available metrics are: loss,acc,auc_2,lr\n",
            "3108/3108 [==============================] - 123s 40ms/sample - loss: 0.3001 - acc: 0.8919 - auc_2: 0.9768\n",
            "Epoch 3/25\n",
            "3106/3108 [============================>.] - ETA: 0s - loss: 0.1795 - acc: 0.9446 - auc_2: 0.9902WARNING:tensorflow:Can save best model only with AUC available, skipping.\n",
            "WARNING:tensorflow:Reduce LR on plateau conditioned on metric `AUC` which is not available. Available metrics are: loss,acc,auc_2,lr\n",
            "3108/3108 [==============================] - 123s 40ms/sample - loss: 0.1794 - acc: 0.9447 - auc_2: 0.9903\n",
            "Epoch 4/25\n",
            "3106/3108 [============================>.] - ETA: 0s - loss: 0.1681 - acc: 0.9469 - auc_2: 0.9911WARNING:tensorflow:Can save best model only with AUC available, skipping.\n",
            "WARNING:tensorflow:Reduce LR on plateau conditioned on metric `AUC` which is not available. Available metrics are: loss,acc,auc_2,lr\n",
            "3108/3108 [==============================] - 124s 40ms/sample - loss: 0.1680 - acc: 0.9469 - auc_2: 0.9911\n",
            "Epoch 5/25\n",
            "3106/3108 [============================>.] - ETA: 0s - loss: 0.0914 - acc: 0.9697 - auc_2: 0.9964WARNING:tensorflow:Can save best model only with AUC available, skipping.\n",
            "WARNING:tensorflow:Reduce LR on plateau conditioned on metric `AUC` which is not available. Available metrics are: loss,acc,auc_2,lr\n",
            "3108/3108 [==============================] - 124s 40ms/sample - loss: 0.0913 - acc: 0.9698 - auc_2: 0.9964\n",
            "Epoch 6/25\n",
            "3107/3108 [============================>.] - ETA: 0s - loss: 0.0730 - acc: 0.9784 - auc_2: 0.9976WARNING:tensorflow:Can save best model only with AUC available, skipping.\n",
            "WARNING:tensorflow:Reduce LR on plateau conditioned on metric `AUC` which is not available. Available metrics are: loss,acc,auc_2,lr\n",
            "3108/3108 [==============================] - 123s 40ms/sample - loss: 0.0730 - acc: 0.9784 - auc_2: 0.9976\n",
            "Epoch 7/25\n",
            "3106/3108 [============================>.] - ETA: 0s - loss: 0.0512 - acc: 0.9862 - auc_2: 0.9983WARNING:tensorflow:Can save best model only with AUC available, skipping.\n",
            "WARNING:tensorflow:Reduce LR on plateau conditioned on metric `AUC` which is not available. Available metrics are: loss,acc,auc_2,lr\n",
            "3108/3108 [==============================] - 123s 39ms/sample - loss: 0.0512 - acc: 0.9862 - auc_2: 0.9983\n",
            "Epoch 8/25\n",
            "3106/3108 [============================>.] - ETA: 0s - loss: 0.0347 - acc: 0.9900 - auc_2: 0.9988WARNING:tensorflow:Can save best model only with AUC available, skipping.\n",
            "WARNING:tensorflow:Reduce LR on plateau conditioned on metric `AUC` which is not available. Available metrics are: loss,acc,auc_2,lr\n",
            "3108/3108 [==============================] - 123s 39ms/sample - loss: 0.0347 - acc: 0.9900 - auc_2: 0.9988\n",
            "Epoch 9/25\n",
            "3106/3108 [============================>.] - ETA: 0s - loss: 0.0503 - acc: 0.9865 - auc_2: 0.9981WARNING:tensorflow:Can save best model only with AUC available, skipping.\n",
            "WARNING:tensorflow:Reduce LR on plateau conditioned on metric `AUC` which is not available. Available metrics are: loss,acc,auc_2,lr\n",
            "3108/3108 [==============================] - 123s 39ms/sample - loss: 0.0502 - acc: 0.9865 - auc_2: 0.9981\n",
            "Epoch 10/25\n",
            "3106/3108 [============================>.] - ETA: 0s - loss: 0.0170 - acc: 0.9948 - auc_2: 0.9997WARNING:tensorflow:Can save best model only with AUC available, skipping.\n",
            "WARNING:tensorflow:Reduce LR on plateau conditioned on metric `AUC` which is not available. Available metrics are: loss,acc,auc_2,lr\n",
            "3108/3108 [==============================] - 123s 39ms/sample - loss: 0.0170 - acc: 0.9949 - auc_2: 0.9997\n",
            "Epoch 11/25\n",
            "3106/3108 [============================>.] - ETA: 0s - loss: 0.0035 - acc: 0.9994 - auc_2: 1.0000WARNING:tensorflow:Can save best model only with AUC available, skipping.\n",
            "WARNING:tensorflow:Reduce LR on plateau conditioned on metric `AUC` which is not available. Available metrics are: loss,acc,auc_2,lr\n",
            "3108/3108 [==============================] - 123s 40ms/sample - loss: 0.0035 - acc: 0.9994 - auc_2: 1.0000\n",
            "Epoch 12/25\n",
            "3107/3108 [============================>.] - ETA: 0s - loss: 1.7003e-04 - acc: 1.0000 - auc_2: 1.0000WARNING:tensorflow:Can save best model only with AUC available, skipping.\n",
            "WARNING:tensorflow:Reduce LR on plateau conditioned on metric `AUC` which is not available. Available metrics are: loss,acc,auc_2,lr\n",
            "3108/3108 [==============================] - 125s 40ms/sample - loss: 1.6998e-04 - acc: 1.0000 - auc_2: 1.0000\n",
            "Epoch 13/25\n",
            "3106/3108 [============================>.] - ETA: 0s - loss: 2.0326e-05 - acc: 1.0000 - auc_2: 1.0000WARNING:tensorflow:Can save best model only with AUC available, skipping.\n",
            "WARNING:tensorflow:Reduce LR on plateau conditioned on metric `AUC` which is not available. Available metrics are: loss,acc,auc_2,lr\n",
            "3108/3108 [==============================] - 124s 40ms/sample - loss: 2.0313e-05 - acc: 1.0000 - auc_2: 1.0000\n",
            "Epoch 14/25\n",
            "3107/3108 [============================>.] - ETA: 0s - loss: 1.4576e-05 - acc: 1.0000 - auc_2: 1.0000WARNING:tensorflow:Can save best model only with AUC available, skipping.\n",
            "WARNING:tensorflow:Reduce LR on plateau conditioned on metric `AUC` which is not available. Available metrics are: loss,acc,auc_2,lr\n",
            "3108/3108 [==============================] - 125s 40ms/sample - loss: 1.4572e-05 - acc: 1.0000 - auc_2: 1.0000\n",
            "Epoch 15/25\n",
            "3107/3108 [============================>.] - ETA: 0s - loss: 1.1420e-05 - acc: 1.0000 - auc_2: 1.0000WARNING:tensorflow:Can save best model only with AUC available, skipping.\n",
            "WARNING:tensorflow:Reduce LR on plateau conditioned on metric `AUC` which is not available. Available metrics are: loss,acc,auc_2,lr\n",
            "3108/3108 [==============================] - 125s 40ms/sample - loss: 1.1417e-05 - acc: 1.0000 - auc_2: 1.0000\n",
            "Epoch 16/25\n",
            "3107/3108 [============================>.] - ETA: 0s - loss: 9.4011e-06 - acc: 1.0000 - auc_2: 1.0000WARNING:tensorflow:Can save best model only with AUC available, skipping.\n",
            "WARNING:tensorflow:Reduce LR on plateau conditioned on metric `AUC` which is not available. Available metrics are: loss,acc,auc_2,lr\n",
            "3108/3108 [==============================] - 124s 40ms/sample - loss: 9.3981e-06 - acc: 1.0000 - auc_2: 1.0000\n",
            "Epoch 17/25\n",
            "3106/3108 [============================>.] - ETA: 0s - loss: 8.0423e-06 - acc: 1.0000 - auc_2: 1.0000WARNING:tensorflow:Can save best model only with AUC available, skipping.\n",
            "WARNING:tensorflow:Reduce LR on plateau conditioned on metric `AUC` which is not available. Available metrics are: loss,acc,auc_2,lr\n",
            "3108/3108 [==============================] - 125s 40ms/sample - loss: 8.0371e-06 - acc: 1.0000 - auc_2: 1.0000\n",
            "Epoch 18/25\n",
            "3106/3108 [============================>.] - ETA: 0s - loss: 7.0447e-06 - acc: 1.0000 - auc_2: 1.0000WARNING:tensorflow:Can save best model only with AUC available, skipping.\n",
            "WARNING:tensorflow:Reduce LR on plateau conditioned on metric `AUC` which is not available. Available metrics are: loss,acc,auc_2,lr\n",
            "3108/3108 [==============================] - 125s 40ms/sample - loss: 7.0402e-06 - acc: 1.0000 - auc_2: 1.0000\n",
            "Epoch 19/25\n",
            "3107/3108 [============================>.] - ETA: 0s - loss: 6.2708e-06 - acc: 1.0000 - auc_2: 1.0000WARNING:tensorflow:Can save best model only with AUC available, skipping.\n",
            "WARNING:tensorflow:Reduce LR on plateau conditioned on metric `AUC` which is not available. Available metrics are: loss,acc,auc_2,lr\n",
            "3108/3108 [==============================] - 125s 40ms/sample - loss: 6.2688e-06 - acc: 1.0000 - auc_2: 1.0000\n",
            "Epoch 20/25\n",
            "3107/3108 [============================>.] - ETA: 0s - loss: 5.6551e-06 - acc: 1.0000 - auc_2: 1.0000WARNING:tensorflow:Can save best model only with AUC available, skipping.\n",
            "WARNING:tensorflow:Reduce LR on plateau conditioned on metric `AUC` which is not available. Available metrics are: loss,acc,auc_2,lr\n",
            "3108/3108 [==============================] - 126s 40ms/sample - loss: 5.6533e-06 - acc: 1.0000 - auc_2: 1.0000\n",
            "Epoch 21/25\n",
            "3106/3108 [============================>.] - ETA: 0s - loss: 5.1522e-06 - acc: 1.0000 - auc_2: 1.0000WARNING:tensorflow:Can save best model only with AUC available, skipping.\n",
            "WARNING:tensorflow:Reduce LR on plateau conditioned on metric `AUC` which is not available. Available metrics are: loss,acc,auc_2,lr\n",
            "3108/3108 [==============================] - 125s 40ms/sample - loss: 5.1489e-06 - acc: 1.0000 - auc_2: 1.0000\n",
            "Epoch 22/25\n",
            "3107/3108 [============================>.] - ETA: 0s - loss: 4.7282e-06 - acc: 1.0000 - auc_2: 1.0000WARNING:tensorflow:Can save best model only with AUC available, skipping.\n",
            "WARNING:tensorflow:Reduce LR on plateau conditioned on metric `AUC` which is not available. Available metrics are: loss,acc,auc_2,lr\n",
            "3108/3108 [==============================] - 126s 40ms/sample - loss: 4.7266e-06 - acc: 1.0000 - auc_2: 1.0000\n",
            "Epoch 23/25\n",
            "3107/3108 [============================>.] - ETA: 0s - loss: 4.3689e-06 - acc: 1.0000 - auc_2: 1.0000WARNING:tensorflow:Can save best model only with AUC available, skipping.\n",
            "WARNING:tensorflow:Reduce LR on plateau conditioned on metric `AUC` which is not available. Available metrics are: loss,acc,auc_2,lr\n",
            "3108/3108 [==============================] - 126s 40ms/sample - loss: 4.3675e-06 - acc: 1.0000 - auc_2: 1.0000\n",
            "Epoch 24/25\n",
            "3106/3108 [============================>.] - ETA: 0s - loss: 4.0622e-06 - acc: 1.0000 - auc_2: 1.0000WARNING:tensorflow:Can save best model only with AUC available, skipping.\n",
            "WARNING:tensorflow:Reduce LR on plateau conditioned on metric `AUC` which is not available. Available metrics are: loss,acc,auc_2,lr\n",
            "3108/3108 [==============================] - 126s 41ms/sample - loss: 4.0596e-06 - acc: 1.0000 - auc_2: 1.0000\n",
            "Epoch 25/25\n",
            "3106/3108 [============================>.] - ETA: 0s - loss: 3.7935e-06 - acc: 1.0000 - auc_2: 1.0000WARNING:tensorflow:Can save best model only with AUC available, skipping.\n",
            "WARNING:tensorflow:Reduce LR on plateau conditioned on metric `AUC` which is not available. Available metrics are: loss,acc,auc_2,lr\n",
            "3108/3108 [==============================] - 126s 40ms/sample - loss: 3.7911e-06 - acc: 1.0000 - auc_2: 1.0000\n"
          ],
          "name": "stdout"
        }
      ]
    },
    {
      "cell_type": "code",
      "metadata": {
        "id": "xFqdrrHOttkE"
      },
      "source": [
        "print(predict_classes(model.predict(X_test)))\n",
        "prediction_index=predict_classes(model.predict(X_test))\n",
        "labels=pd.get_dummies(y_train).columns\n",
        "predicted_labels=list(map(lambda x: labels[x], prediction_index))\n",
        "print(predicted_labels)"
      ],
      "execution_count": null,
      "outputs": []
    },
    {
      "cell_type": "code",
      "metadata": {
        "id": "49XMFyDYttkJ"
      },
      "source": [
        "# y_test is one hot encoded so we need to extract labels before runing model_eval_metrics()\n",
        "y_test_labels=y_test.idxmax(axis=1) #extract labels from one hot encoded y_test object\n",
        "\n",
        "y_test_labels=list(y_test.idxmax(axis=1)) #returns a pandas series of predicted labels"
      ],
      "execution_count": 33,
      "outputs": []
    },
    {
      "cell_type": "code",
      "metadata": {
        "colab": {
          "base_uri": "https://localhost:8080/",
          "height": 80
        },
        "id": "4v8gSJPpttkJ",
        "outputId": "1f11f1b5-fb75-4186-ba57-efca5f99fe0f"
      },
      "source": [
        "model_eval_metrics( y_test_labels,predicted_labels,classification=\"TRUE\")"
      ],
      "execution_count": 34,
      "outputs": [
        {
          "output_type": "execute_result",
          "data": {
            "text/html": [
              "<div>\n",
              "<style scoped>\n",
              "    .dataframe tbody tr th:only-of-type {\n",
              "        vertical-align: middle;\n",
              "    }\n",
              "\n",
              "    .dataframe tbody tr th {\n",
              "        vertical-align: top;\n",
              "    }\n",
              "\n",
              "    .dataframe thead th {\n",
              "        text-align: right;\n",
              "    }\n",
              "</style>\n",
              "<table border=\"1\" class=\"dataframe\">\n",
              "  <thead>\n",
              "    <tr style=\"text-align: right;\">\n",
              "      <th></th>\n",
              "      <th>accuracy</th>\n",
              "      <th>f1_score</th>\n",
              "      <th>precision</th>\n",
              "      <th>recall</th>\n",
              "      <th>mse</th>\n",
              "      <th>rmse</th>\n",
              "      <th>mae</th>\n",
              "      <th>r2</th>\n",
              "    </tr>\n",
              "  </thead>\n",
              "  <tbody>\n",
              "    <tr>\n",
              "      <th>0</th>\n",
              "      <td>0.938303</td>\n",
              "      <td>0.938173</td>\n",
              "      <td>0.938004</td>\n",
              "      <td>0.939173</td>\n",
              "      <td>0</td>\n",
              "      <td>0</td>\n",
              "      <td>0</td>\n",
              "      <td>0</td>\n",
              "    </tr>\n",
              "  </tbody>\n",
              "</table>\n",
              "</div>"
            ],
            "text/plain": [
              "   accuracy  f1_score  precision    recall  mse  rmse  mae  r2\n",
              "0  0.938303  0.938173   0.938004  0.939173    0     0    0   0"
            ]
          },
          "metadata": {
            "tags": []
          },
          "execution_count": 34
        }
      ]
    },
    {
      "cell_type": "markdown",
      "metadata": {
        "id": "QsIVFL03u6GQ"
      },
      "source": [
        "### ResNet model"
      ]
    },
    {
      "cell_type": "code",
      "metadata": {
        "colab": {
          "base_uri": "https://localhost:8080/"
        },
        "id": "BgNFmCbqYtiW",
        "outputId": "1356322d-9b42-42f8-ad0e-edd7bdef53fe"
      },
      "source": [
        "base_model = ResNet50(input_shape=IMG_SHAPE, include_top=False, weights='imagenet')\n",
        "base_model.trainable = False\n",
        "# base_model.summary() # Notice unfrozen number of trainable parameters\n",
        "\n",
        "# Fine-tune everything up to this layer onwards\n",
        "freeze_layers_after=30\n",
        "\n",
        "# Freeze all the layers after the `freeze_layers_after` layer\n",
        "for layer in base_model.layers[freeze_layers_after:]:\n",
        "  layer.trainable =  False\n",
        "\n",
        "with tf.device('/device:GPU:0'): #\"/GPU:0\": Short-hand notation for the first GPU of your machine that is visible to TensorFlow.\n",
        "\n",
        "  mc = ModelCheckpoint('best_model.h5', monitor='AUC',mode='max', verbose=1, save_best_only=True) # evaluating val_acc maximization\n",
        "  red_lr= ReduceLROnPlateau(monitor='AUC',patience=2,verbose=1,factor=0.5, min_lr=0.001) # dividing lr by 2 when val_accuracy fails to improve after 2 epochs\n",
        "\n",
        "  model.compile(\n",
        "    optimizer='adam',\n",
        "    loss= 'categorical_crossentropy',\n",
        "    metrics=['accuracy', 'AUC'])\n",
        "\n",
        "  model.fit(X_train, y_train,\n",
        "          epochs = 25, verbose=1,callbacks=[mc,red_lr])"
      ],
      "execution_count": 39,
      "outputs": [
        {
          "output_type": "stream",
          "text": [
            "Train on 3108 samples\n",
            "Epoch 1/25\n",
            "3104/3108 [============================>.] - ETA: 0s - loss: 0.3442 - acc: 0.9230 - auc_6: 0.9815WARNING:tensorflow:Can save best model only with AUC available, skipping.\n",
            "WARNING:tensorflow:Reduce LR on plateau conditioned on metric `AUC` which is not available. Available metrics are: loss,acc,auc_6,lr\n",
            "3108/3108 [==============================] - 29s 9ms/sample - loss: 0.3458 - acc: 0.9228 - auc_6: 0.9812\n",
            "Epoch 2/25\n",
            "3104/3108 [============================>.] - ETA: 0s - loss: 0.1399 - acc: 0.9549 - auc_6: 0.9937WARNING:tensorflow:Can save best model only with AUC available, skipping.\n",
            "WARNING:tensorflow:Reduce LR on plateau conditioned on metric `AUC` which is not available. Available metrics are: loss,acc,auc_6,lr\n",
            "3108/3108 [==============================] - 20s 7ms/sample - loss: 0.1405 - acc: 0.9546 - auc_6: 0.9936\n",
            "Epoch 3/25\n",
            "3104/3108 [============================>.] - ETA: 0s - loss: 0.1270 - acc: 0.9617 - auc_6: 0.9936WARNING:tensorflow:Can save best model only with AUC available, skipping.\n",
            "WARNING:tensorflow:Reduce LR on plateau conditioned on metric `AUC` which is not available. Available metrics are: loss,acc,auc_6,lr\n",
            "3108/3108 [==============================] - 20s 7ms/sample - loss: 0.1268 - acc: 0.9617 - auc_6: 0.9936\n",
            "Epoch 4/25\n",
            "3104/3108 [============================>.] - ETA: 0s - loss: 0.0623 - acc: 0.9791 - auc_6: 0.9983WARNING:tensorflow:Can save best model only with AUC available, skipping.\n",
            "WARNING:tensorflow:Reduce LR on plateau conditioned on metric `AUC` which is not available. Available metrics are: loss,acc,auc_6,lr\n",
            "3108/3108 [==============================] - 20s 6ms/sample - loss: 0.0625 - acc: 0.9788 - auc_6: 0.9983\n",
            "Epoch 5/25\n",
            "3104/3108 [============================>.] - ETA: 0s - loss: 0.0807 - acc: 0.9733 - auc_6: 0.9976WARNING:tensorflow:Can save best model only with AUC available, skipping.\n",
            "WARNING:tensorflow:Reduce LR on plateau conditioned on metric `AUC` which is not available. Available metrics are: loss,acc,auc_6,lr\n",
            "3108/3108 [==============================] - 20s 6ms/sample - loss: 0.0806 - acc: 0.9733 - auc_6: 0.9976\n",
            "Epoch 6/25\n",
            "3104/3108 [============================>.] - ETA: 0s - loss: 1.9526 - acc: 0.6943 - auc_6: 0.8715WARNING:tensorflow:Can save best model only with AUC available, skipping.\n",
            "WARNING:tensorflow:Reduce LR on plateau conditioned on metric `AUC` which is not available. Available metrics are: loss,acc,auc_6,lr\n",
            "3108/3108 [==============================] - 20s 6ms/sample - loss: 1.9503 - acc: 0.6947 - auc_6: 0.8718\n",
            "Epoch 7/25\n",
            "3104/3108 [============================>.] - ETA: 0s - loss: 0.6708 - acc: 0.6688 - auc_6: 0.8673WARNING:tensorflow:Can save best model only with AUC available, skipping.\n",
            "WARNING:tensorflow:Reduce LR on plateau conditioned on metric `AUC` which is not available. Available metrics are: loss,acc,auc_6,lr\n",
            "3108/3108 [==============================] - 20s 6ms/sample - loss: 0.6710 - acc: 0.6689 - auc_6: 0.8673\n",
            "Epoch 8/25\n",
            "3104/3108 [============================>.] - ETA: 0s - loss: 0.4523 - acc: 0.8402 - auc_6: 0.9455WARNING:tensorflow:Can save best model only with AUC available, skipping.\n",
            "WARNING:tensorflow:Reduce LR on plateau conditioned on metric `AUC` which is not available. Available metrics are: loss,acc,auc_6,lr\n",
            "3108/3108 [==============================] - 20s 6ms/sample - loss: 0.4519 - acc: 0.8404 - auc_6: 0.9456\n",
            "Epoch 9/25\n",
            "3104/3108 [============================>.] - ETA: 0s - loss: 0.3113 - acc: 0.8959 - auc_6: 0.9715WARNING:tensorflow:Can save best model only with AUC available, skipping.\n",
            "WARNING:tensorflow:Reduce LR on plateau conditioned on metric `AUC` which is not available. Available metrics are: loss,acc,auc_6,lr\n",
            "3108/3108 [==============================] - 20s 6ms/sample - loss: 0.3235 - acc: 0.8951 - auc_6: 0.9703\n",
            "Epoch 10/25\n",
            "3104/3108 [============================>.] - ETA: 0s - loss: 0.3461 - acc: 0.8798 - auc_6: 0.9660WARNING:tensorflow:Can save best model only with AUC available, skipping.\n",
            "WARNING:tensorflow:Reduce LR on plateau conditioned on metric `AUC` which is not available. Available metrics are: loss,acc,auc_6,lr\n",
            "3108/3108 [==============================] - 20s 6ms/sample - loss: 0.3489 - acc: 0.8790 - auc_6: 0.9655\n",
            "Epoch 11/25\n",
            "3104/3108 [============================>.] - ETA: 0s - loss: 0.3538 - acc: 0.8863 - auc_6: 0.9642WARNING:tensorflow:Can save best model only with AUC available, skipping.\n",
            "WARNING:tensorflow:Reduce LR on plateau conditioned on metric `AUC` which is not available. Available metrics are: loss,acc,auc_6,lr\n",
            "3108/3108 [==============================] - 20s 6ms/sample - loss: 0.3555 - acc: 0.8861 - auc_6: 0.9639\n",
            "Epoch 12/25\n",
            "3104/3108 [============================>.] - ETA: 0s - loss: 0.2426 - acc: 0.9275 - auc_6: 0.9819WARNING:tensorflow:Can save best model only with AUC available, skipping.\n",
            "WARNING:tensorflow:Reduce LR on plateau conditioned on metric `AUC` which is not available. Available metrics are: loss,acc,auc_6,lr\n",
            "3108/3108 [==============================] - 20s 6ms/sample - loss: 0.2432 - acc: 0.9270 - auc_6: 0.9819\n",
            "Epoch 13/25\n",
            "3104/3108 [============================>.] - ETA: 0s - loss: 0.3755 - acc: 0.8769 - auc_6: 0.9601WARNING:tensorflow:Can save best model only with AUC available, skipping.\n",
            "WARNING:tensorflow:Reduce LR on plateau conditioned on metric `AUC` which is not available. Available metrics are: loss,acc,auc_6,lr\n",
            "3108/3108 [==============================] - 20s 6ms/sample - loss: 0.3750 - acc: 0.8771 - auc_6: 0.9601\n",
            "Epoch 14/25\n",
            "3104/3108 [============================>.] - ETA: 0s - loss: 0.2182 - acc: 0.9262 - auc_6: 0.9847WARNING:tensorflow:Can save best model only with AUC available, skipping.\n",
            "WARNING:tensorflow:Reduce LR on plateau conditioned on metric `AUC` which is not available. Available metrics are: loss,acc,auc_6,lr\n",
            "3108/3108 [==============================] - 20s 6ms/sample - loss: 0.2181 - acc: 0.9263 - auc_6: 0.9847\n",
            "Epoch 15/25\n",
            "3104/3108 [============================>.] - ETA: 0s - loss: 0.3117 - acc: 0.9127 - auc_6: 0.9767WARNING:tensorflow:Can save best model only with AUC available, skipping.\n",
            "WARNING:tensorflow:Reduce LR on plateau conditioned on metric `AUC` which is not available. Available metrics are: loss,acc,auc_6,lr\n",
            "3108/3108 [==============================] - 20s 6ms/sample - loss: 0.3113 - acc: 0.9128 - auc_6: 0.9768\n",
            "Epoch 16/25\n",
            "3104/3108 [============================>.] - ETA: 0s - loss: 0.1995 - acc: 0.9333 - auc_6: 0.9875WARNING:tensorflow:Can save best model only with AUC available, skipping.\n",
            "WARNING:tensorflow:Reduce LR on plateau conditioned on metric `AUC` which is not available. Available metrics are: loss,acc,auc_6,lr\n",
            "3108/3108 [==============================] - 20s 6ms/sample - loss: 0.2021 - acc: 0.9331 - auc_6: 0.9872\n",
            "Epoch 17/25\n",
            "3104/3108 [============================>.] - ETA: 0s - loss: 0.1989 - acc: 0.9365 - auc_6: 0.9887WARNING:tensorflow:Can save best model only with AUC available, skipping.\n",
            "WARNING:tensorflow:Reduce LR on plateau conditioned on metric `AUC` which is not available. Available metrics are: loss,acc,auc_6,lr\n",
            "3108/3108 [==============================] - 20s 6ms/sample - loss: 0.1999 - acc: 0.9360 - auc_6: 0.9886\n",
            "Epoch 18/25\n",
            "3104/3108 [============================>.] - ETA: 0s - loss: 0.1838 - acc: 0.9323 - auc_6: 0.9895WARNING:tensorflow:Can save best model only with AUC available, skipping.\n",
            "WARNING:tensorflow:Reduce LR on plateau conditioned on metric `AUC` which is not available. Available metrics are: loss,acc,auc_6,lr\n",
            "3108/3108 [==============================] - 20s 6ms/sample - loss: 0.1836 - acc: 0.9324 - auc_6: 0.9895\n",
            "Epoch 19/25\n",
            "3104/3108 [============================>.] - ETA: 0s - loss: 0.1227 - acc: 0.9607 - auc_6: 0.9943WARNING:tensorflow:Can save best model only with AUC available, skipping.\n",
            "WARNING:tensorflow:Reduce LR on plateau conditioned on metric `AUC` which is not available. Available metrics are: loss,acc,auc_6,lr\n",
            "3108/3108 [==============================] - 20s 6ms/sample - loss: 0.1226 - acc: 0.9607 - auc_6: 0.9943\n",
            "Epoch 20/25\n",
            "3104/3108 [============================>.] - ETA: 0s - loss: 0.1105 - acc: 0.9626 - auc_6: 0.9952WARNING:tensorflow:Can save best model only with AUC available, skipping.\n",
            "WARNING:tensorflow:Reduce LR on plateau conditioned on metric `AUC` which is not available. Available metrics are: loss,acc,auc_6,lr\n",
            "3108/3108 [==============================] - 20s 6ms/sample - loss: 0.1117 - acc: 0.9624 - auc_6: 0.9952\n",
            "Epoch 21/25\n",
            "3104/3108 [============================>.] - ETA: 0s - loss: 0.1222 - acc: 0.9671 - auc_6: 0.9952WARNING:tensorflow:Can save best model only with AUC available, skipping.\n",
            "WARNING:tensorflow:Reduce LR on plateau conditioned on metric `AUC` which is not available. Available metrics are: loss,acc,auc_6,lr\n",
            "3108/3108 [==============================] - 20s 6ms/sample - loss: 0.1221 - acc: 0.9672 - auc_6: 0.9952\n",
            "Epoch 22/25\n",
            "3104/3108 [============================>.] - ETA: 0s - loss: 0.1227 - acc: 0.9623 - auc_6: 0.9944WARNING:tensorflow:Can save best model only with AUC available, skipping.\n",
            "WARNING:tensorflow:Reduce LR on plateau conditioned on metric `AUC` which is not available. Available metrics are: loss,acc,auc_6,lr\n",
            "3108/3108 [==============================] - 20s 6ms/sample - loss: 0.1226 - acc: 0.9624 - auc_6: 0.9944\n",
            "Epoch 23/25\n",
            "3104/3108 [============================>.] - ETA: 0s - loss: 0.0868 - acc: 0.9710 - auc_6: 0.9969WARNING:tensorflow:Can save best model only with AUC available, skipping.\n",
            "WARNING:tensorflow:Reduce LR on plateau conditioned on metric `AUC` which is not available. Available metrics are: loss,acc,auc_6,lr\n",
            "3108/3108 [==============================] - 20s 6ms/sample - loss: 0.0867 - acc: 0.9710 - auc_6: 0.9969\n",
            "Epoch 24/25\n",
            "3104/3108 [============================>.] - ETA: 0s - loss: 0.0822 - acc: 0.9749 - auc_6: 0.9974WARNING:tensorflow:Can save best model only with AUC available, skipping.\n",
            "WARNING:tensorflow:Reduce LR on plateau conditioned on metric `AUC` which is not available. Available metrics are: loss,acc,auc_6,lr\n",
            "3108/3108 [==============================] - 20s 6ms/sample - loss: 0.0833 - acc: 0.9746 - auc_6: 0.9974\n",
            "Epoch 25/25\n",
            "3104/3108 [============================>.] - ETA: 0s - loss: 0.1092 - acc: 0.9639 - auc_6: 0.9955WARNING:tensorflow:Can save best model only with AUC available, skipping.\n",
            "WARNING:tensorflow:Reduce LR on plateau conditioned on metric `AUC` which is not available. Available metrics are: loss,acc,auc_6,lr\n",
            "3108/3108 [==============================] - 20s 6ms/sample - loss: 0.1091 - acc: 0.9640 - auc_6: 0.9955\n"
          ],
          "name": "stdout"
        }
      ]
    },
    {
      "cell_type": "code",
      "metadata": {
        "id": "y-zL33l81rGv"
      },
      "source": [
        "print(predict_classes(model.predict(X_test)))\n",
        "prediction_index=predict_classes(model.predict(X_test))\n",
        "labels=pd.get_dummies(y_train).columns\n",
        "predicted_labels=list(map(lambda x: labels[x], prediction_index))\n",
        "print(predicted_labels)"
      ],
      "execution_count": null,
      "outputs": []
    },
    {
      "cell_type": "code",
      "metadata": {
        "id": "1v98iGCv1rG0"
      },
      "source": [
        "# y_test is one hot encoded so we need to extract labels before runing model_eval_metrics()\n",
        "y_test_labels=y_test.idxmax(axis=1) #extract labels from one hot encoded y_test object\n",
        "\n",
        "y_test_labels=list(y_test.idxmax(axis=1)) #returns a pandas series of predicted labels"
      ],
      "execution_count": 41,
      "outputs": []
    },
    {
      "cell_type": "code",
      "metadata": {
        "colab": {
          "base_uri": "https://localhost:8080/",
          "height": 80
        },
        "id": "FYdUvesV1rG0",
        "outputId": "f5a5f7fb-4967-47b0-9ab0-efb66f8e84ab"
      },
      "source": [
        "model_eval_metrics( y_test_labels,predicted_labels,classification=\"TRUE\")"
      ],
      "execution_count": 42,
      "outputs": [
        {
          "output_type": "execute_result",
          "data": {
            "text/html": [
              "<div>\n",
              "<style scoped>\n",
              "    .dataframe tbody tr th:only-of-type {\n",
              "        vertical-align: middle;\n",
              "    }\n",
              "\n",
              "    .dataframe tbody tr th {\n",
              "        vertical-align: top;\n",
              "    }\n",
              "\n",
              "    .dataframe thead th {\n",
              "        text-align: right;\n",
              "    }\n",
              "</style>\n",
              "<table border=\"1\" class=\"dataframe\">\n",
              "  <thead>\n",
              "    <tr style=\"text-align: right;\">\n",
              "      <th></th>\n",
              "      <th>accuracy</th>\n",
              "      <th>f1_score</th>\n",
              "      <th>precision</th>\n",
              "      <th>recall</th>\n",
              "      <th>mse</th>\n",
              "      <th>rmse</th>\n",
              "      <th>mae</th>\n",
              "      <th>r2</th>\n",
              "    </tr>\n",
              "  </thead>\n",
              "  <tbody>\n",
              "    <tr>\n",
              "      <th>0</th>\n",
              "      <td>0.966581</td>\n",
              "      <td>0.966779</td>\n",
              "      <td>0.966894</td>\n",
              "      <td>0.966734</td>\n",
              "      <td>0</td>\n",
              "      <td>0</td>\n",
              "      <td>0</td>\n",
              "      <td>0</td>\n",
              "    </tr>\n",
              "  </tbody>\n",
              "</table>\n",
              "</div>"
            ],
            "text/plain": [
              "   accuracy  f1_score  precision    recall  mse  rmse  mae  r2\n",
              "0  0.966581  0.966779   0.966894  0.966734    0     0    0   0"
            ]
          },
          "metadata": {
            "tags": []
          },
          "execution_count": 42
        }
      ]
    },
    {
      "cell_type": "markdown",
      "metadata": {
        "id": "7TpA2vfWK51R"
      },
      "source": [
        "### Evaluation"
      ]
    },
    {
      "cell_type": "markdown",
      "metadata": {
        "id": "L98BMvPwLS6B"
      },
      "source": [
        "In this report, I trained several deep learning models to classify X-ray images as either Covid-19 positive, Pneumonia, or Normal.\n",
        "\n",
        "The best performing models are the **Sequential** neural network model and **ResNet**. Both received 96% on all metric fields, including accuracy, f1-score, precision, and recall.\n",
        "\n",
        "Both models trained using callback to automatically adjust learning rate. ResNet used layer freezing set to 30 to accelerate to model training process. ResNet used epochs set to 25 and the Sequential model set to 20. The Sequential model used relu activation for its layers and various filter sizes, ranging from 8 to 64.\n"
      ]
    },
    {
      "cell_type": "markdown",
      "metadata": {
        "id": "mL8Ji12NL0wU"
      },
      "source": [
        "-----------------"
      ]
    },
    {
      "cell_type": "markdown",
      "metadata": {
        "id": "LJjZtc-ZIeXj"
      },
      "source": [
        "### References"
      ]
    },
    {
      "cell_type": "markdown",
      "metadata": {
        "id": "zi3THX9TIgSI"
      },
      "source": [
        "M.E.H. Chowdhury, T. Rahman, A. Khandakar, R. Mazhar, M.A. Kadir, Z.B. Mahbub, K.R. Islam, M.S. Khan, A. Iqbal, N. Al-Emadi, M.B.I. Reaz, “Can AI help in screening Viral and COVID-19 pneumonia?” arXiv preprint, 29 March 2020, https://arxiv.org/abs/2003.13145"
      ]
    },
    {
      "cell_type": "markdown",
      "metadata": {
        "id": "h-B_RiJPLx0g"
      },
      "source": [
        "------------------"
      ]
    },
    {
      "cell_type": "markdown",
      "metadata": {
        "id": "4k1M5UZTYRDg"
      },
      "source": [
        "### Share best models to leaderboard"
      ]
    },
    {
      "cell_type": "code",
      "metadata": {
        "id": "etkbBtbyWZos"
      },
      "source": [
        "# test with aimodelshare library\n",
        "! pip install aimodelshare --upgrade --extra-index-url https://test.pypi.org/simple/ "
      ],
      "execution_count": 26,
      "outputs": []
    },
    {
      "cell_type": "code",
      "metadata": {
        "id": "38VIthQR126S"
      },
      "source": [
        "import aimodelshare as ai\r\n",
        "ai.export_preprocessor(preprocessor,\"\") #ignore error \"can't pickle module objects\""
      ],
      "execution_count": 43,
      "outputs": []
    },
    {
      "cell_type": "code",
      "metadata": {
        "id": "f3E8LGtb18hd",
        "colab": {
          "base_uri": "https://localhost:8080/"
        },
        "outputId": "62a6e59a-8806-4a5d-9147-c3e990bb520f"
      },
      "source": [
        "from aimodelshare.aimsonnx import model_to_onnx\r\n",
        "# transform sklearn model to ONNX\r\n",
        "onnx_model_keras= model_to_onnx(model, framework='keras', \r\n",
        "                                   transfer_learning=True,\r\n",
        "                                   deep_learning=True,\r\n",
        "                                   task_type='classification')\r\n",
        "\r\n",
        "# Save model to local .onnx file\r\n",
        "with open(\"onnx_model_keras.onnx\", \"wb\") as f:\r\n",
        "    f.write(onnx_model_keras.SerializeToString())"
      ],
      "execution_count": 44,
      "outputs": [
        {
          "output_type": "stream",
          "text": [
            "The ONNX operator number change on the optimization: 830 -> 225\n"
          ],
          "name": "stderr"
        }
      ]
    },
    {
      "cell_type": "code",
      "metadata": {
        "id": "h9EirDB06pQT",
        "colab": {
          "base_uri": "https://localhost:8080/"
        },
        "outputId": "1baa2bfe-ddac-4139-b637-581053425cdc"
      },
      "source": [
        "# Set credentials to submit new model/preprocessor\r\n",
        "from google.colab import drive\r\n",
        "drive.mount('/content/drive')\r\n",
        "\r\n",
        "from aimodelshare.aws import set_credentials\r\n",
        "set_credentials(credential_file=\"/content/drive/My Drive/Adv. Machine Learning/Code/assignment_2/credentials.txt\", type=\"submit_model\", apiurl=\"https://sxr89y55o4.execute-api.us-east-1.amazonaws.com/prod/m\") #Covid image prediction apiURL"
      ],
      "execution_count": 22,
      "outputs": [
        {
          "output_type": "stream",
          "text": [
            "Mounted at /content/drive\n",
            "AI Model Share login credentials set successfully.\n",
            "AWS credentials set successfully.\n"
          ],
          "name": "stdout"
        }
      ]
    },
    {
      "cell_type": "code",
      "metadata": {
        "id": "Wj0imUmQ7fJM"
      },
      "source": [
        "import aimodelshare as ai\r\n",
        "import os\r\n",
        "token=ai.aws.get_aws_token(os.environ.get(\"username\"), os.environ.get(\"password\"))\r\n",
        "awscreds=ai.aws.get_aws_client(aws_key=os.environ.get('AWS_ACCESS_KEY_ID'), aws_secret=os.environ.get('AWS_SECRET_ACCESS_KEY'), aws_region=os.environ.get('AWS_REGION'))"
      ],
      "execution_count": 45,
      "outputs": []
    },
    {
      "cell_type": "code",
      "metadata": {
        "id": "y-XkESiP7gwG",
        "colab": {
          "base_uri": "https://localhost:8080/",
          "height": 35
        },
        "outputId": "60f24902-2ea3-42c0-fd91-36ab94309b9a"
      },
      "source": [
        "# Submit_model() to leaderboard\r\n",
        "ai.submit_model(\"onnx_model_keras.onnx\",\r\n",
        "                \"https://sxr89y55o4.execute-api.us-east-1.amazonaws.com/prod/m\",\r\n",
        "                token,awscreds,prediction_submission=predicted_labels,\r\n",
        "                preprocessor=\"preprocessor.zip\")"
      ],
      "execution_count": 46,
      "outputs": [
        {
          "output_type": "execute_result",
          "data": {
            "application/vnd.google.colaboratory.intrinsic+json": {
              "type": "string"
            },
            "text/plain": [
              "'Your model has been submitted as model version 43'"
            ]
          },
          "metadata": {
            "tags": []
          },
          "execution_count": 46
        }
      ]
    },
    {
      "cell_type": "code",
      "metadata": {
        "id": "MRR07ZfB7o6H"
      },
      "source": [
        "import pandas\r\n",
        "data=ai.get_leaderboard(\"https://sxr89y55o4.execute-api.us-east-1.amazonaws.com/prod/m\",\r\n",
        "                token,awscreds,verbose=1)\r\n",
        "\r\n",
        "#get rid of any duplicate model submissions\r\n",
        "#data=data.loc[data.iloc[:,0:8].duplicated()==False,:]\r\n",
        "data.fillna(0,inplace=True)\r\n",
        "data"
      ],
      "execution_count": null,
      "outputs": []
    },
    {
      "cell_type": "code",
      "metadata": {
        "id": "VUiOWDJrBBV3"
      },
      "source": [
        "ai.stylize_leaderboard(data,category=\"classification\")"
      ],
      "execution_count": null,
      "outputs": []
    }
  ]
}